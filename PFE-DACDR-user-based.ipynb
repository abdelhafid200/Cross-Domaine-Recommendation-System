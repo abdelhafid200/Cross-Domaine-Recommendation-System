{
 "cells": [
  {
   "cell_type": "code",
   "execution_count": 1,
   "id": "07cc370e",
   "metadata": {
    "_cell_guid": "b1076dfc-b9ad-4769-8c92-a6c4dae69d19",
    "_uuid": "8f2839f25d086af736a60e9eeb907d3b93b6e0e5",
    "execution": {
     "iopub.execute_input": "2025-03-17T13:16:07.379933Z",
     "iopub.status.busy": "2025-03-17T13:16:07.379726Z",
     "iopub.status.idle": "2025-03-17T13:16:08.080019Z",
     "shell.execute_reply": "2025-03-17T13:16:08.079046Z"
    },
    "papermill": {
     "duration": 0.705648,
     "end_time": "2025-03-17T13:16:08.081368",
     "exception": false,
     "start_time": "2025-03-17T13:16:07.375720",
     "status": "completed"
    },
    "tags": []
   },
   "outputs": [
    {
     "name": "stdout",
     "output_type": "stream",
     "text": [
      "/kaggle/input/dataset-rs/user_profile.csv\n",
      "/kaggle/input/dataset-rs/raw_sample.csv\n",
      "/kaggle/input/dataset-rs/UserBehavior.csv\n",
      "/kaggle/input/dataset-rs/ad_feature.csv\n"
     ]
    }
   ],
   "source": [
    "# This Python 3 environment comes with many helpful analytics libraries installed\n",
    "# It is defined by the kaggle/python Docker image: https://github.com/kaggle/docker-python\n",
    "# For example, here's several helpful packages to load\n",
    "\n",
    "import numpy as np # linear algebra\n",
    "import pandas as pd # data processing, CSV file I/O (e.g. pd.read_csv)\n",
    "\n",
    "# Input data files are available in the read-only \"../input/\" directory\n",
    "# For example, running this (by clicking run or pressing Shift+Enter) will list all files under the input directory\n",
    "\n",
    "import os\n",
    "for dirname, _, filenames in os.walk('/kaggle/input'):\n",
    "    for filename in filenames:\n",
    "        print(os.path.join(dirname, filename))\n",
    "\n",
    "# You can write up to 20GB to the current directory (/kaggle/working/) that gets preserved as output when you create a version using \"Save & Run All\" \n",
    "# You can also write temporary files to /kaggle/temp/, but they won't be saved outside of the current session"
   ]
  },
  {
   "cell_type": "code",
   "execution_count": 1,
   "id": "d20b53be",
   "metadata": {
    "papermill": {
     "duration": 4.46329,
     "end_time": "2025-03-17T13:16:12.547945",
     "exception": false,
     "start_time": "2025-03-17T13:16:08.084655",
     "status": "completed"
    },
    "tags": []
   },
   "outputs": [],
   "source": [
    "import pandas as pd\n",
    "import numpy as np\n",
    "import torch\n",
    "import torch.nn as nn\n",
    "import torch.optim as optim\n",
    "import matplotlib.pyplot as plt\n",
    "from sklearn.preprocessing import StandardScaler\n",
    "from sklearn.metrics import mean_squared_error, mean_absolute_error, r2_score, roc_auc_score\n",
    "from sklearn.metrics.pairwise import cosine_similarity\n",
    "from scipy.sparse import csr_matrix\n",
    "from sklearn.decomposition import TruncatedSVD"
   ]
  },
  {
   "cell_type": "code",
   "execution_count": 3,
   "id": "313dd82b",
   "metadata": {
    "papermill": {
     "duration": 82.525366,
     "end_time": "2025-03-17T13:17:35.076327",
     "exception": false,
     "start_time": "2025-03-17T13:16:12.550961",
     "status": "completed"
    },
    "tags": []
   },
   "outputs": [],
   "source": [
    "# 🔹 Step 1: Load & Preprocess Data\n",
    "ad_data = pd.read_csv(\"raw_sample.csv\", usecols=[\"user\", \"adgroup_id\", \"nonclk\"])\n",
    "ecommerce_data = pd.read_csv(\"UserBehavior.csv\")\n",
    "ecommerce_data.columns = ['user_id', 'item_id', 'category_id', 'behavior_type', 'timestamp']\n"
   ]
  },
  {
   "cell_type": "code",
   "execution_count": 4,
   "id": "8f431682",
   "metadata": {
    "papermill": {
     "duration": 33.367541,
     "end_time": "2025-03-17T13:18:08.447125",
     "exception": false,
     "start_time": "2025-03-17T13:17:35.079584",
     "status": "completed"
    },
    "tags": []
   },
   "outputs": [],
   "source": [
    "# Rename columns for consistency\n",
    "ad_data.rename(columns={\"user\": \"user_id\", \"adgroup_id\": \"item_id\", \"nonclk\": \"interaction\"}, inplace=True)\n",
    "ecommerce_data[\"interaction\"] = ecommerce_data[\"behavior_type\"].apply(lambda x: 1 if x == \"buy\" else 0)\n",
    "\n",
    "# Keep only relevant columns\n",
    "ad_data = ad_data[[\"user_id\", \"item_id\", \"interaction\"]]\n",
    "ecommerce_data = ecommerce_data[[\"user_id\", \"item_id\", \"interaction\"]]\n"
   ]
  },
  {
   "cell_type": "code",
   "execution_count": 5,
   "id": "443d341f",
   "metadata": {
    "papermill": {
     "duration": 15.82961,
     "end_time": "2025-03-17T13:18:24.280091",
     "exception": false,
     "start_time": "2025-03-17T13:18:08.450481",
     "status": "completed"
    },
    "tags": []
   },
   "outputs": [],
   "source": [
    "# 🔹 Step 2: Filter Common Users & Sample 20%\n",
    "common_users = list(set(ad_data[\"user_id\"]).intersection(set(ecommerce_data[\"user_id\"])))\n",
    "sampled_users = np.random.choice(common_users, int(0.3 * len(common_users)), replace=False)\n",
    "ad_data = ad_data[ad_data[\"user_id\"].isin(sampled_users)]\n",
    "ecommerce_data = ecommerce_data[ecommerce_data[\"user_id\"].isin(sampled_users)]"
   ]
  },
  {
   "cell_type": "code",
   "execution_count": 6,
   "id": "a284f556-ed14-47d7-a8d9-7954f06a849d",
   "metadata": {},
   "outputs": [
    {
     "name": "stdout",
     "output_type": "stream",
     "text": [
      "Sampled users: 296398\n",
      "Ad interactions after sampling: 6819890\n",
      "E-commerce interactions after sampling: 30026756\n"
     ]
    }
   ],
   "source": [
    "# Print dataset sizes\n",
    "print(f\"Sampled users: {len(sampled_users)}\")\n",
    "print(f\"Ad interactions after sampling: {len(ad_data)}\")\n",
    "print(f\"E-commerce interactions after sampling: {len(ecommerce_data)}\")"
   ]
  },
  {
   "cell_type": "code",
   "execution_count": null,
   "id": "89d7a02c-9032-455a-adea-b7957eda3055",
   "metadata": {},
   "outputs": [],
   "source": []
  },
  {
   "cell_type": "code",
   "execution_count": 6,
   "id": "16986a0b",
   "metadata": {
    "execution": {
     "iopub.execute_input": "2025-03-17T13:18:24.287286Z",
     "iopub.status.busy": "2025-03-17T13:18:24.287039Z",
     "iopub.status.idle": "2025-03-17T13:20:09.355001Z",
     "shell.execute_reply": "2025-03-17T13:20:09.354007Z"
    },
    "papermill": {
     "duration": 105.073277,
     "end_time": "2025-03-17T13:20:09.356760",
     "exception": false,
     "start_time": "2025-03-17T13:18:24.283483",
     "status": "completed"
    },
    "tags": []
   },
   "outputs": [],
   "source": [
    "# 🔹 Step 3: Train User Embeddings Using SVD\n",
    "def train_user_embeddings(data, embedding_dim=32):\n",
    "    data = data.groupby([\"user_id\", \"item_id\"]).agg({\"interaction\": \"sum\"}).reset_index()\n",
    "    user_mapping = {user: idx for idx, user in enumerate(data[\"user_id\"].unique())}\n",
    "    item_mapping = {item: idx for idx, item in enumerate(data[\"item_id\"].unique())}\n",
    "    data[\"user_idx\"] = data[\"user_id\"].map(user_mapping)\n",
    "    data[\"item_idx\"] = data[\"item_id\"].map(item_mapping)\n",
    "\n",
    "    interaction_matrix = csr_matrix(\n",
    "        (data[\"interaction\"], (data[\"user_idx\"], data[\"item_idx\"])),\n",
    "        shape=(len(user_mapping), len(item_mapping))\n",
    "    )\n",
    "\n",
    "    svd = TruncatedSVD(n_components=embedding_dim, random_state=42)\n",
    "    user_embeddings = svd.fit_transform(interaction_matrix)\n",
    "\n",
    "    return {user: embedding for user, embedding in zip(user_mapping.keys(), user_embeddings)}\n",
    "\n",
    "# Train embeddings\n",
    "source_user_embeddings = train_user_embeddings(ad_data)\n",
    "target_user_embeddings = train_user_embeddings(ecommerce_data)"
   ]
  },
  {
   "cell_type": "code",
   "execution_count": 7,
   "id": "eaa711e6",
   "metadata": {
    "execution": {
     "iopub.execute_input": "2025-03-17T13:20:09.363927Z",
     "iopub.status.busy": "2025-03-17T13:20:09.363683Z",
     "iopub.status.idle": "2025-03-17T13:20:10.723861Z",
     "shell.execute_reply": "2025-03-17T13:20:10.723121Z"
    },
    "papermill": {
     "duration": 1.365345,
     "end_time": "2025-03-17T13:20:10.725418",
     "exception": false,
     "start_time": "2025-03-17T13:20:09.360073",
     "status": "completed"
    },
    "tags": []
   },
   "outputs": [],
   "source": [
    "# 🔹 Step 4: Prepare Data for Training\n",
    "X_train, Y_train = [], []\n",
    "for user in sampled_users:\n",
    "    if user in source_user_embeddings and user in target_user_embeddings:\n",
    "        X_train.append(source_user_embeddings[user])\n",
    "        Y_train.append(target_user_embeddings[user])\n",
    "\n",
    "X_train, Y_train = np.array(X_train), np.array(Y_train)\n",
    "\n",
    "# Normalize embeddings\n",
    "scaler = StandardScaler()\n",
    "X_train = scaler.fit_transform(X_train)\n",
    "Y_train = scaler.fit_transform(Y_train)\n",
    "\n",
    "# Convert to tensors\n",
    "X_train_torch = torch.tensor(X_train, dtype=torch.float32)\n",
    "Y_train_torch = torch.tensor(Y_train, dtype=torch.float32)\n",
    "\n",
    "# Split train/test (80/20)\n",
    "train_size = int(0.8 * len(X_train_torch))\n",
    "X_train_torch, X_test_torch = X_train_torch[:train_size], X_train_torch[train_size:]\n",
    "Y_train_torch, Y_test_torch = Y_train_torch[:train_size], Y_train_torch[train_size:]\n"
   ]
  },
  {
   "cell_type": "code",
   "execution_count": 8,
   "id": "ff96d5e6",
   "metadata": {
    "execution": {
     "iopub.execute_input": "2025-03-17T13:20:10.733034Z",
     "iopub.status.busy": "2025-03-17T13:20:10.732791Z",
     "iopub.status.idle": "2025-03-17T13:20:10.750798Z",
     "shell.execute_reply": "2025-03-17T13:20:10.750150Z"
    },
    "papermill": {
     "duration": 0.022877,
     "end_time": "2025-03-17T13:20:10.752044",
     "exception": false,
     "start_time": "2025-03-17T13:20:10.729167",
     "status": "completed"
    },
    "tags": []
   },
   "outputs": [],
   "source": [
    "# 🔹 Step 5: Define DACDR Model (With Cross Attention)\n",
    "class CrossAttentionDACDR(nn.Module):\n",
    "    def __init__(self, embedding_dim=32, hidden_dim=64):\n",
    "        super(CrossAttentionDACDR, self).__init__()\n",
    "\n",
    "        # Attention Layer\n",
    "        self.attention = nn.MultiheadAttention(embed_dim=embedding_dim, num_heads=4, batch_first=True)\n",
    "\n",
    "        # Mapping Layers\n",
    "        self.fc1 = nn.Linear(embedding_dim, hidden_dim)\n",
    "        self.dropout = nn.Dropout(0.2)\n",
    "        self.fc2 = nn.Linear(hidden_dim, embedding_dim)\n",
    "        self.relu = nn.ReLU()  # 🔹 Change activation to ReLU\n",
    "\n",
    "    def forward(self, source_emb, target_emb):\n",
    "        source_emb = source_emb.unsqueeze(1)\n",
    "        target_emb = target_emb.unsqueeze(1)\n",
    "\n",
    "        # Cross Attention\n",
    "        attended_source, _ = self.attention(source_emb, target_emb, target_emb)\n",
    "\n",
    "        # Mapping from source to target space\n",
    "        x = self.relu(self.fc1(attended_source.squeeze(1)))  # 🔹 Use ReLU activation\n",
    "        x = self.dropout(x)\n",
    "        x = self.fc2(x)\n",
    "        return torch.nn.functional.normalize(x, p=2, dim=1)  # 🔹 Normalize embeddings\n",
    "\n",
    "\n",
    "\n",
    "# Initialize Model\n",
    "model = CrossAttentionDACDR()"
   ]
  },
  {
   "cell_type": "code",
   "execution_count": 9,
   "id": "5b8c41e4",
   "metadata": {
    "execution": {
     "iopub.execute_input": "2025-03-17T13:20:10.758785Z",
     "iopub.status.busy": "2025-03-17T13:20:10.758547Z",
     "iopub.status.idle": "2025-03-17T13:21:52.655089Z",
     "shell.execute_reply": "2025-03-17T13:21:52.654089Z"
    },
    "papermill": {
     "duration": 101.901563,
     "end_time": "2025-03-17T13:21:52.656683",
     "exception": false,
     "start_time": "2025-03-17T13:20:10.755120",
     "status": "completed"
    },
    "tags": []
   },
   "outputs": [
    {
     "name": "stdout",
     "output_type": "stream",
     "text": [
      "Epoch 1, Train Loss: 1.7321, Test Loss: 1.5994\n",
      "Epoch 2, Train Loss: 1.7301, Test Loss: 1.5976\n",
      "Epoch 3, Train Loss: 1.7281, Test Loss: 1.5954\n",
      "Epoch 4, Train Loss: 1.7260, Test Loss: 1.5933\n",
      "Epoch 5, Train Loss: 1.7239, Test Loss: 1.5913\n",
      "Epoch 6, Train Loss: 1.7218, Test Loss: 1.5891\n",
      "Epoch 7, Train Loss: 1.7195, Test Loss: 1.5870\n",
      "Epoch 8, Train Loss: 1.7175, Test Loss: 1.5849\n",
      "Epoch 9, Train Loss: 1.7155, Test Loss: 1.5833\n",
      "Epoch 10, Train Loss: 1.7134, Test Loss: 1.5810\n",
      "Epoch 11, Train Loss: 1.7114, Test Loss: 1.5789\n",
      "Epoch 12, Train Loss: 1.7095, Test Loss: 1.5766\n",
      "Epoch 13, Train Loss: 1.7073, Test Loss: 1.5745\n",
      "Epoch 14, Train Loss: 1.7052, Test Loss: 1.5726\n",
      "Epoch 15, Train Loss: 1.7030, Test Loss: 1.5706\n",
      "Epoch 16, Train Loss: 1.7008, Test Loss: 1.5686\n",
      "Epoch 17, Train Loss: 1.6988, Test Loss: 1.5659\n",
      "Epoch 18, Train Loss: 1.6968, Test Loss: 1.5639\n",
      "Epoch 19, Train Loss: 1.6946, Test Loss: 1.5620\n",
      "Epoch 20, Train Loss: 1.6922, Test Loss: 1.5602\n",
      "Epoch 21, Train Loss: 1.6902, Test Loss: 1.5576\n",
      "Epoch 22, Train Loss: 1.6882, Test Loss: 1.5558\n",
      "Epoch 23, Train Loss: 1.6862, Test Loss: 1.5531\n",
      "Epoch 24, Train Loss: 1.6840, Test Loss: 1.5515\n",
      "Epoch 25, Train Loss: 1.6819, Test Loss: 1.5494\n",
      "Epoch 26, Train Loss: 1.6798, Test Loss: 1.5475\n",
      "Epoch 27, Train Loss: 1.6776, Test Loss: 1.5450\n",
      "Epoch 28, Train Loss: 1.6753, Test Loss: 1.5431\n",
      "Epoch 29, Train Loss: 1.6732, Test Loss: 1.5408\n",
      "Epoch 30, Train Loss: 1.6711, Test Loss: 1.5387\n",
      "Epoch 31, Train Loss: 1.6690, Test Loss: 1.5359\n",
      "Epoch 32, Train Loss: 1.6668, Test Loss: 1.5343\n",
      "Epoch 33, Train Loss: 1.6646, Test Loss: 1.5320\n",
      "Epoch 34, Train Loss: 1.6625, Test Loss: 1.5301\n",
      "Epoch 35, Train Loss: 1.6604, Test Loss: 1.5277\n",
      "Epoch 36, Train Loss: 1.6582, Test Loss: 1.5257\n",
      "Epoch 37, Train Loss: 1.6558, Test Loss: 1.5236\n",
      "Epoch 38, Train Loss: 1.6538, Test Loss: 1.5213\n",
      "Epoch 39, Train Loss: 1.6516, Test Loss: 1.5191\n",
      "Epoch 40, Train Loss: 1.6494, Test Loss: 1.5167\n",
      "Epoch 41, Train Loss: 1.6472, Test Loss: 1.5147\n",
      "Epoch 42, Train Loss: 1.6450, Test Loss: 1.5122\n",
      "Epoch 43, Train Loss: 1.6428, Test Loss: 1.5104\n",
      "Epoch 44, Train Loss: 1.6406, Test Loss: 1.5082\n",
      "Epoch 45, Train Loss: 1.6384, Test Loss: 1.5056\n",
      "Epoch 46, Train Loss: 1.6362, Test Loss: 1.5035\n",
      "Epoch 47, Train Loss: 1.6340, Test Loss: 1.5015\n",
      "Epoch 48, Train Loss: 1.6317, Test Loss: 1.4990\n",
      "Epoch 49, Train Loss: 1.6293, Test Loss: 1.4969\n",
      "Epoch 50, Train Loss: 1.6271, Test Loss: 1.4945\n",
      "Epoch 51, Train Loss: 1.6250, Test Loss: 1.4924\n",
      "Epoch 52, Train Loss: 1.6227, Test Loss: 1.4902\n",
      "Epoch 53, Train Loss: 1.6204, Test Loss: 1.4878\n",
      "Epoch 54, Train Loss: 1.6181, Test Loss: 1.4855\n",
      "Epoch 55, Train Loss: 1.6159, Test Loss: 1.4834\n",
      "Epoch 56, Train Loss: 1.6135, Test Loss: 1.4808\n",
      "Epoch 57, Train Loss: 1.6113, Test Loss: 1.4785\n",
      "Epoch 58, Train Loss: 1.6088, Test Loss: 1.4763\n",
      "Epoch 59, Train Loss: 1.6065, Test Loss: 1.4739\n",
      "Epoch 60, Train Loss: 1.6042, Test Loss: 1.4711\n",
      "Epoch 61, Train Loss: 1.6018, Test Loss: 1.4696\n",
      "Epoch 62, Train Loss: 1.5995, Test Loss: 1.4669\n",
      "Epoch 63, Train Loss: 1.5971, Test Loss: 1.4646\n",
      "Epoch 64, Train Loss: 1.5946, Test Loss: 1.4621\n",
      "Epoch 65, Train Loss: 1.5922, Test Loss: 1.4596\n",
      "Epoch 66, Train Loss: 1.5899, Test Loss: 1.4572\n",
      "Epoch 67, Train Loss: 1.5876, Test Loss: 1.4552\n",
      "Epoch 68, Train Loss: 1.5851, Test Loss: 1.4526\n",
      "Epoch 69, Train Loss: 1.5828, Test Loss: 1.4499\n",
      "Epoch 70, Train Loss: 1.5804, Test Loss: 1.4477\n",
      "Epoch 71, Train Loss: 1.5780, Test Loss: 1.4451\n",
      "Epoch 72, Train Loss: 1.5755, Test Loss: 1.4426\n",
      "Epoch 73, Train Loss: 1.5732, Test Loss: 1.4403\n",
      "Epoch 74, Train Loss: 1.5704, Test Loss: 1.4380\n",
      "Epoch 75, Train Loss: 1.5680, Test Loss: 1.4353\n",
      "Epoch 76, Train Loss: 1.5657, Test Loss: 1.4331\n",
      "Epoch 77, Train Loss: 1.5632, Test Loss: 1.4303\n",
      "Epoch 78, Train Loss: 1.5606, Test Loss: 1.4279\n",
      "Epoch 79, Train Loss: 1.5580, Test Loss: 1.4252\n",
      "Epoch 80, Train Loss: 1.5557, Test Loss: 1.4227\n",
      "Epoch 81, Train Loss: 1.5532, Test Loss: 1.4204\n",
      "Epoch 82, Train Loss: 1.5506, Test Loss: 1.4178\n",
      "Epoch 83, Train Loss: 1.5480, Test Loss: 1.4153\n",
      "Epoch 84, Train Loss: 1.5456, Test Loss: 1.4129\n",
      "Epoch 85, Train Loss: 1.5432, Test Loss: 1.4105\n",
      "Epoch 86, Train Loss: 1.5407, Test Loss: 1.4081\n",
      "Epoch 87, Train Loss: 1.5382, Test Loss: 1.4050\n",
      "Epoch 88, Train Loss: 1.5356, Test Loss: 1.4026\n",
      "Epoch 89, Train Loss: 1.5327, Test Loss: 1.4002\n",
      "Epoch 90, Train Loss: 1.5302, Test Loss: 1.3972\n",
      "Epoch 91, Train Loss: 1.5279, Test Loss: 1.3949\n",
      "Epoch 92, Train Loss: 1.5250, Test Loss: 1.3922\n",
      "Epoch 93, Train Loss: 1.5224, Test Loss: 1.3893\n",
      "Epoch 94, Train Loss: 1.5198, Test Loss: 1.3869\n",
      "Epoch 95, Train Loss: 1.5174, Test Loss: 1.3841\n",
      "Epoch 96, Train Loss: 1.5144, Test Loss: 1.3816\n",
      "Epoch 97, Train Loss: 1.5119, Test Loss: 1.3790\n",
      "Epoch 98, Train Loss: 1.5092, Test Loss: 1.3762\n",
      "Epoch 99, Train Loss: 1.5065, Test Loss: 1.3734\n",
      "Epoch 100, Train Loss: 1.5038, Test Loss: 1.3708\n",
      "Epoch 101, Train Loss: 1.5011, Test Loss: 1.3683\n",
      "Epoch 102, Train Loss: 1.4986, Test Loss: 1.3654\n",
      "Epoch 103, Train Loss: 1.4959, Test Loss: 1.3631\n",
      "Epoch 104, Train Loss: 1.4931, Test Loss: 1.3602\n",
      "Epoch 105, Train Loss: 1.4905, Test Loss: 1.3574\n",
      "Epoch 106, Train Loss: 1.4876, Test Loss: 1.3548\n",
      "Epoch 107, Train Loss: 1.4851, Test Loss: 1.3520\n",
      "Epoch 108, Train Loss: 1.4823, Test Loss: 1.3497\n",
      "Epoch 109, Train Loss: 1.4796, Test Loss: 1.3469\n",
      "Epoch 110, Train Loss: 1.4768, Test Loss: 1.3440\n",
      "Epoch 111, Train Loss: 1.4742, Test Loss: 1.3412\n",
      "Epoch 112, Train Loss: 1.4716, Test Loss: 1.3383\n",
      "Epoch 113, Train Loss: 1.4688, Test Loss: 1.3358\n",
      "Epoch 114, Train Loss: 1.4660, Test Loss: 1.3332\n",
      "Epoch 115, Train Loss: 1.4632, Test Loss: 1.3304\n",
      "Epoch 116, Train Loss: 1.4607, Test Loss: 1.3278\n",
      "Epoch 117, Train Loss: 1.4578, Test Loss: 1.3250\n",
      "Epoch 118, Train Loss: 1.4552, Test Loss: 1.3223\n",
      "Epoch 119, Train Loss: 1.4523, Test Loss: 1.3197\n",
      "Epoch 120, Train Loss: 1.4495, Test Loss: 1.3164\n",
      "Epoch 121, Train Loss: 1.4469, Test Loss: 1.3138\n",
      "Epoch 122, Train Loss: 1.4441, Test Loss: 1.3112\n",
      "Epoch 123, Train Loss: 1.4414, Test Loss: 1.3081\n",
      "Epoch 124, Train Loss: 1.4387, Test Loss: 1.3052\n",
      "Epoch 125, Train Loss: 1.4360, Test Loss: 1.3030\n",
      "Epoch 126, Train Loss: 1.4332, Test Loss: 1.3002\n",
      "Epoch 127, Train Loss: 1.4305, Test Loss: 1.2974\n",
      "Epoch 128, Train Loss: 1.4278, Test Loss: 1.2947\n",
      "Epoch 129, Train Loss: 1.4251, Test Loss: 1.2922\n",
      "Epoch 130, Train Loss: 1.4223, Test Loss: 1.2890\n",
      "Epoch 131, Train Loss: 1.4195, Test Loss: 1.2864\n",
      "Epoch 132, Train Loss: 1.4170, Test Loss: 1.2839\n",
      "Epoch 133, Train Loss: 1.4140, Test Loss: 1.2812\n",
      "Epoch 134, Train Loss: 1.4114, Test Loss: 1.2786\n",
      "Epoch 135, Train Loss: 1.4086, Test Loss: 1.2759\n",
      "Epoch 136, Train Loss: 1.4060, Test Loss: 1.2732\n",
      "Epoch 137, Train Loss: 1.4034, Test Loss: 1.2708\n",
      "Epoch 138, Train Loss: 1.4008, Test Loss: 1.2676\n",
      "Epoch 139, Train Loss: 1.3978, Test Loss: 1.2647\n",
      "Epoch 140, Train Loss: 1.3953, Test Loss: 1.2628\n",
      "Epoch 141, Train Loss: 1.3925, Test Loss: 1.2598\n",
      "Epoch 142, Train Loss: 1.3898, Test Loss: 1.2568\n",
      "Epoch 143, Train Loss: 1.3873, Test Loss: 1.2541\n",
      "Epoch 144, Train Loss: 1.3845, Test Loss: 1.2518\n",
      "Epoch 145, Train Loss: 1.3820, Test Loss: 1.2490\n",
      "Epoch 146, Train Loss: 1.3792, Test Loss: 1.2464\n",
      "Epoch 147, Train Loss: 1.3766, Test Loss: 1.2441\n",
      "Epoch 148, Train Loss: 1.3741, Test Loss: 1.2411\n",
      "Epoch 149, Train Loss: 1.3714, Test Loss: 1.2385\n",
      "Epoch 150, Train Loss: 1.3687, Test Loss: 1.2360\n",
      "Epoch 151, Train Loss: 1.3663, Test Loss: 1.2336\n",
      "Epoch 152, Train Loss: 1.3636, Test Loss: 1.2303\n",
      "Epoch 153, Train Loss: 1.3614, Test Loss: 1.2287\n",
      "Epoch 154, Train Loss: 1.3588, Test Loss: 1.2256\n",
      "Epoch 155, Train Loss: 1.3561, Test Loss: 1.2230\n",
      "Epoch 156, Train Loss: 1.3534, Test Loss: 1.2205\n",
      "Epoch 157, Train Loss: 1.3509, Test Loss: 1.2181\n",
      "Epoch 158, Train Loss: 1.3486, Test Loss: 1.2155\n",
      "Epoch 159, Train Loss: 1.3459, Test Loss: 1.2134\n",
      "Epoch 160, Train Loss: 1.3433, Test Loss: 1.2109\n",
      "Epoch 161, Train Loss: 1.3410, Test Loss: 1.2085\n",
      "Epoch 162, Train Loss: 1.3386, Test Loss: 1.2059\n",
      "Epoch 163, Train Loss: 1.3361, Test Loss: 1.2034\n",
      "Epoch 164, Train Loss: 1.3337, Test Loss: 1.2011\n",
      "Epoch 165, Train Loss: 1.3316, Test Loss: 1.1985\n",
      "Epoch 166, Train Loss: 1.3292, Test Loss: 1.1959\n",
      "Epoch 167, Train Loss: 1.3268, Test Loss: 1.1938\n",
      "Epoch 168, Train Loss: 1.3243, Test Loss: 1.1920\n",
      "Epoch 169, Train Loss: 1.3222, Test Loss: 1.1899\n",
      "Epoch 170, Train Loss: 1.3196, Test Loss: 1.1872\n",
      "Epoch 171, Train Loss: 1.3173, Test Loss: 1.1847\n",
      "Epoch 172, Train Loss: 1.3153, Test Loss: 1.1826\n",
      "Epoch 173, Train Loss: 1.3127, Test Loss: 1.1801\n",
      "Epoch 174, Train Loss: 1.3105, Test Loss: 1.1781\n",
      "Epoch 175, Train Loss: 1.3083, Test Loss: 1.1756\n",
      "Epoch 176, Train Loss: 1.3061, Test Loss: 1.1734\n",
      "Epoch 177, Train Loss: 1.3038, Test Loss: 1.1708\n",
      "Epoch 178, Train Loss: 1.3015, Test Loss: 1.1686\n",
      "Epoch 179, Train Loss: 1.2992, Test Loss: 1.1665\n",
      "Epoch 180, Train Loss: 1.2969, Test Loss: 1.1643\n",
      "Epoch 181, Train Loss: 1.2946, Test Loss: 1.1621\n",
      "Epoch 182, Train Loss: 1.2923, Test Loss: 1.1600\n",
      "Epoch 183, Train Loss: 1.2904, Test Loss: 1.1577\n",
      "Epoch 184, Train Loss: 1.2881, Test Loss: 1.1557\n",
      "Epoch 185, Train Loss: 1.2860, Test Loss: 1.1535\n",
      "Epoch 186, Train Loss: 1.2838, Test Loss: 1.1512\n",
      "Epoch 187, Train Loss: 1.2819, Test Loss: 1.1492\n",
      "Epoch 188, Train Loss: 1.2797, Test Loss: 1.1477\n",
      "Epoch 189, Train Loss: 1.2775, Test Loss: 1.1454\n",
      "Epoch 190, Train Loss: 1.2756, Test Loss: 1.1436\n",
      "Epoch 191, Train Loss: 1.2734, Test Loss: 1.1414\n",
      "Epoch 192, Train Loss: 1.2715, Test Loss: 1.1391\n",
      "Epoch 193, Train Loss: 1.2694, Test Loss: 1.1374\n",
      "Epoch 194, Train Loss: 1.2677, Test Loss: 1.1350\n",
      "Epoch 195, Train Loss: 1.2656, Test Loss: 1.1335\n",
      "Epoch 196, Train Loss: 1.2640, Test Loss: 1.1317\n",
      "Epoch 197, Train Loss: 1.2619, Test Loss: 1.1297\n",
      "Epoch 198, Train Loss: 1.2602, Test Loss: 1.1277\n",
      "Epoch 199, Train Loss: 1.2579, Test Loss: 1.1262\n",
      "Epoch 200, Train Loss: 1.2563, Test Loss: 1.1244\n"
     ]
    }
   ],
   "source": [
    "# 🔹 Step 6: Train Model with MSE + Cosine Similarity Loss\n",
    "def loss_function(pred, true):\n",
    "    mse_loss = nn.MSELoss()(pred, true)\n",
    "    cos_loss = 1 - torch.nn.functional.cosine_similarity(pred, true).mean()  # 🔹 Cosine Similarity Loss\n",
    "    return mse_loss + 0.7 * cos_loss  # 🔹 Increase weight of cosine similarity loss\n",
    "\n",
    "\n",
    "optimizer = optim.Adam(model.parameters(), lr=0.0001, weight_decay=1e-3)\n",
    "\n",
    "# Train\n",
    "epochs = 200\n",
    "train_losses, test_losses = [], []\n",
    "best_loss = float(\"inf\")\n",
    "patience = 10  # 🔹 Stop training if no improvement for 10 epochs\n",
    "counter = 0\n",
    "\n",
    "for epoch in range(epochs):\n",
    "    optimizer.zero_grad()\n",
    "    output = model(X_train_torch, Y_train_torch)\n",
    "    loss = loss_function(output, Y_train_torch)\n",
    "    loss.backward()\n",
    "    optimizer.step()\n",
    "    train_losses.append(loss.item())\n",
    "\n",
    "    # Validate\n",
    "    with torch.no_grad():\n",
    "        test_output = model(X_test_torch, Y_test_torch)\n",
    "        test_loss = loss_function(test_output, Y_test_torch)\n",
    "        test_losses.append(test_loss.item())\n",
    "        \n",
    "\n",
    "    print(f\"Epoch {epoch+1}, Train Loss: {loss.item():.4f}, Test Loss: {test_loss.item():.4f}\")\n",
    "\n",
    "    # 🔹 Early Stopping\n",
    "    if test_loss < best_loss:\n",
    "        best_loss = test_loss\n",
    "        counter = 0  # Reset counter if improvement\n",
    "        torch.save(model.state_dict(), \"best_cross_attention_dacdr.pth\")  # Save best model\n",
    "    else:\n",
    "        counter += 1\n",
    "        if counter >= patience:\n",
    "            print(\"⏳ Early stopping triggered!\")\n",
    "            break"
   ]
  },
  {
   "cell_type": "code",
   "execution_count": 10,
   "id": "6cd7e9a3",
   "metadata": {
    "execution": {
     "iopub.execute_input": "2025-03-17T13:21:52.683195Z",
     "iopub.status.busy": "2025-03-17T13:21:52.682723Z",
     "iopub.status.idle": "2025-03-17T13:21:55.425558Z",
     "shell.execute_reply": "2025-03-17T13:21:55.424519Z"
    },
    "papermill": {
     "duration": 2.756682,
     "end_time": "2025-03-17T13:21:55.427032",
     "exception": false,
     "start_time": "2025-03-17T13:21:52.670350",
     "status": "completed"
    },
    "tags": []
   },
   "outputs": [
    {
     "name": "stdout",
     "output_type": "stream",
     "text": [
      "\n",
      "🔹 Evaluation Metrics:\n",
      "Mean Squared Error (MSE): 0.9059\n",
      "Mean Absolute Error (MAE): 0.1702\n",
      "R² Score: -5.2577\n",
      "Average Cosine Similarity: 0.6878\n",
      "AUC Score: 1.0000\n"
     ]
    }
   ],
   "source": [
    "# 🔹 Step 7: Evaluate Performance\n",
    "with torch.no_grad():\n",
    "    predicted_embeddings = model(X_test_torch, Y_test_torch).numpy()\n",
    "    actual_embeddings = Y_test_torch.numpy()\n",
    "\n",
    "mse = mean_squared_error(actual_embeddings, predicted_embeddings)\n",
    "mae = mean_absolute_error(actual_embeddings, predicted_embeddings)\n",
    "r2 = r2_score(actual_embeddings, predicted_embeddings)\n",
    "\n",
    "cos_similarities = np.diag(cosine_similarity(predicted_embeddings, actual_embeddings))\n",
    "auc_score = roc_auc_score((cos_similarities >= 0.8).astype(int), cos_similarities)\n",
    "\n",
    "print(f\"\\n🔹 Evaluation Metrics:\")\n",
    "print(f\"Mean Squared Error (MSE): {mse:.4f}\")\n",
    "print(f\"Mean Absolute Error (MAE): {mae:.4f}\")\n",
    "print(f\"R² Score: {r2:.4f}\")\n",
    "print(f\"Average Cosine Similarity: {np.mean(cos_similarities):.4f}\")\n",
    "print(f\"AUC Score: {auc_score:.4f}\")"
   ]
  },
  {
   "cell_type": "code",
   "execution_count": 11,
   "id": "855019c4",
   "metadata": {
    "execution": {
     "iopub.execute_input": "2025-03-17T13:21:55.451277Z",
     "iopub.status.busy": "2025-03-17T13:21:55.451035Z",
     "iopub.status.idle": "2025-03-17T13:21:55.455097Z",
     "shell.execute_reply": "2025-03-17T13:21:55.454409Z"
    },
    "papermill": {
     "duration": 0.017102,
     "end_time": "2025-03-17T13:21:55.456334",
     "exception": false,
     "start_time": "2025-03-17T13:21:55.439232",
     "status": "completed"
    },
    "tags": []
   },
   "outputs": [
    {
     "name": "stdout",
     "output_type": "stream",
     "text": [
      "200 200\n"
     ]
    }
   ],
   "source": [
    "print(len(train_losses), len(test_losses))\n"
   ]
  },
  {
   "cell_type": "code",
   "execution_count": 12,
   "id": "6f27f521",
   "metadata": {
    "execution": {
     "iopub.execute_input": "2025-03-17T13:21:55.479691Z",
     "iopub.status.busy": "2025-03-17T13:21:55.479473Z",
     "iopub.status.idle": "2025-03-17T13:21:55.943138Z",
     "shell.execute_reply": "2025-03-17T13:21:55.942184Z"
    },
    "papermill": {
     "duration": 0.477201,
     "end_time": "2025-03-17T13:21:55.944684",
     "exception": false,
     "start_time": "2025-03-17T13:21:55.467483",
     "status": "completed"
    },
    "tags": []
   },
   "outputs": [
    {
     "data": {
      "image/png": "[encoded data removed]",
      "text/plain": [
       "<Figure size 1000x500 with 1 Axes>"
      ]
     },
     "metadata": {},
     "output_type": "display_data"
    },
    {
     "data": {
      "image/png": "[encoded data removed]",
      "text/plain": [
       "<Figure size 640x480 with 1 Axes>"
      ]
     },
     "metadata": {},
     "output_type": "display_data"
    }
   ],
   "source": [
    "# 🔹 Step 8: Plot Loss Curves\n",
    "plt.figure(figsize=(10, 5))\n",
    "plt.plot(range(1, epochs + 1), train_losses, label=\"Train Loss\", marker='o')\n",
    "plt.plot(range(1, epochs + 1), test_losses, label=\"Test Loss\", marker='s')\n",
    "plt.xlabel(\"Epochs\")\n",
    "plt.ylabel(\"Loss (MSE + Cosine Similarity)\")\n",
    "plt.title(\"Train & Test Loss Over Epochs\")\n",
    "plt.legend()\n",
    "plt.show()\n",
    "\n",
    "\n",
    "\n",
    "import matplotlib.pyplot as plt\n",
    "\n",
    "plt.hist(cos_similarities, bins=30, edgecolor=\"black\", alpha=0.7)\n",
    "plt.xlabel(\"Cosine Similarity\")\n",
    "plt.ylabel(\"Number of Users\")\n",
    "plt.title(\"Cosine Similarity Distribution\")\n",
    "plt.show()\n"
   ]
  },
  {
   "cell_type": "code",
   "execution_count": null,
   "id": "7d7cf8a3",
   "metadata": {
    "papermill": {
     "duration": 0.012173,
     "end_time": "2025-03-17T13:21:55.970394",
     "exception": false,
     "start_time": "2025-03-17T13:21:55.958221",
     "status": "completed"
    },
    "tags": []
   },
   "outputs": [],
   "source": []
  }
 ],
 "metadata": {
  "kaggle": {
   "accelerator": "nvidiaTeslaT4",
   "dataSources": [
    {
     "datasetId": 6287114,
     "sourceId": 10178601,
     "sourceType": "datasetVersion"
    }
   ],
   "dockerImageVersionId": 30919,
   "isGpuEnabled": true,
   "isInternetEnabled": true,
   "language": "python",
   "sourceType": "notebook"
  },
  "kernelspec": {
   "display_name": "Python 3 (ipykernel)",
   "language": "python",
   "name": "python3"
  },
  "language_info": {
   "codemirror_mode": {
    "name": "ipython",
    "version": 3
   },
   "file_extension": ".py",
   "mimetype": "text/x-python",
   "name": "python",
   "nbconvert_exporter": "python",
   "pygments_lexer": "ipython3",
   "version": "3.12.4"
  },
  "papermill": {
   "default_parameters": {},
   "duration": 353.936993,
   "end_time": "2025-03-17T13:21:58.724378",
   "environment_variables": {},
   "exception": null,
   "input_path": "__notebook__.ipynb",
   "output_path": "__notebook__.ipynb",
   "parameters": {},
   "start_time": "2025-03-17T13:16:04.787385",
   "version": "2.6.0"
  }
 },
 "nbformat": 4,
 "nbformat_minor": 5
}
