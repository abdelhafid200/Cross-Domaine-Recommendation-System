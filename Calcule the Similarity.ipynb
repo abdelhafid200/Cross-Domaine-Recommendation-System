{
 "cells": [
  {
   "cell_type": "code",
   "execution_count": 1,
   "id": "8128c82f-ba89-4a06-97cd-90e91b92ca4d",
   "metadata": {},
   "outputs": [
    {
     "data": {
      "text/html": [
       "<div>\n",
       "<style scoped>\n",
       "    .dataframe tbody tr th:only-of-type {\n",
       "        vertical-align: middle;\n",
       "    }\n",
       "\n",
       "    .dataframe tbody tr th {\n",
       "        vertical-align: top;\n",
       "    }\n",
       "\n",
       "    .dataframe thead th {\n",
       "        text-align: right;\n",
       "    }\n",
       "</style>\n",
       "<table border=\"1\" class=\"dataframe\">\n",
       "  <thead>\n",
       "    <tr style=\"text-align: right;\">\n",
       "      <th></th>\n",
       "      <th>adgroup_id</th>\n",
       "      <th>cate_id</th>\n",
       "      <th>campaign_id</th>\n",
       "      <th>customer</th>\n",
       "      <th>brand</th>\n",
       "      <th>price</th>\n",
       "    </tr>\n",
       "  </thead>\n",
       "  <tbody>\n",
       "    <tr>\n",
       "      <th>0</th>\n",
       "      <td>63133</td>\n",
       "      <td>6406</td>\n",
       "      <td>83237</td>\n",
       "      <td>1</td>\n",
       "      <td>95471.0</td>\n",
       "      <td>170.00</td>\n",
       "    </tr>\n",
       "    <tr>\n",
       "      <th>1</th>\n",
       "      <td>313401</td>\n",
       "      <td>6406</td>\n",
       "      <td>83237</td>\n",
       "      <td>1</td>\n",
       "      <td>87331.0</td>\n",
       "      <td>199.00</td>\n",
       "    </tr>\n",
       "    <tr>\n",
       "      <th>2</th>\n",
       "      <td>248909</td>\n",
       "      <td>392</td>\n",
       "      <td>83237</td>\n",
       "      <td>1</td>\n",
       "      <td>32233.0</td>\n",
       "      <td>38.00</td>\n",
       "    </tr>\n",
       "    <tr>\n",
       "      <th>3</th>\n",
       "      <td>208458</td>\n",
       "      <td>392</td>\n",
       "      <td>83237</td>\n",
       "      <td>1</td>\n",
       "      <td>174374.0</td>\n",
       "      <td>139.00</td>\n",
       "    </tr>\n",
       "    <tr>\n",
       "      <th>4</th>\n",
       "      <td>110847</td>\n",
       "      <td>7211</td>\n",
       "      <td>135256</td>\n",
       "      <td>2</td>\n",
       "      <td>145952.0</td>\n",
       "      <td>32.99</td>\n",
       "    </tr>\n",
       "    <tr>\n",
       "      <th>...</th>\n",
       "      <td>...</td>\n",
       "      <td>...</td>\n",
       "      <td>...</td>\n",
       "      <td>...</td>\n",
       "      <td>...</td>\n",
       "      <td>...</td>\n",
       "    </tr>\n",
       "    <tr>\n",
       "      <th>846806</th>\n",
       "      <td>824255</td>\n",
       "      <td>4526</td>\n",
       "      <td>380022</td>\n",
       "      <td>255868</td>\n",
       "      <td>389713.0</td>\n",
       "      <td>268.00</td>\n",
       "    </tr>\n",
       "    <tr>\n",
       "      <th>846807</th>\n",
       "      <td>790170</td>\n",
       "      <td>4280</td>\n",
       "      <td>379736</td>\n",
       "      <td>255872</td>\n",
       "      <td>322171.0</td>\n",
       "      <td>68.00</td>\n",
       "    </tr>\n",
       "    <tr>\n",
       "      <th>846808</th>\n",
       "      <td>845286</td>\n",
       "      <td>6261</td>\n",
       "      <td>379736</td>\n",
       "      <td>255872</td>\n",
       "      <td>322171.0</td>\n",
       "      <td>88.00</td>\n",
       "    </tr>\n",
       "    <tr>\n",
       "      <th>846809</th>\n",
       "      <td>824732</td>\n",
       "      <td>4520</td>\n",
       "      <td>379736</td>\n",
       "      <td>255872</td>\n",
       "      <td>322171.0</td>\n",
       "      <td>68.00</td>\n",
       "    </tr>\n",
       "    <tr>\n",
       "      <th>846810</th>\n",
       "      <td>845337</td>\n",
       "      <td>11156</td>\n",
       "      <td>379603</td>\n",
       "      <td>255874</td>\n",
       "      <td>74120.0</td>\n",
       "      <td>279.00</td>\n",
       "    </tr>\n",
       "  </tbody>\n",
       "</table>\n",
       "<p>846811 rows × 6 columns</p>\n",
       "</div>"
      ],
      "text/plain": [
       "        adgroup_id  cate_id  campaign_id  customer     brand   price\n",
       "0            63133     6406        83237         1   95471.0  170.00\n",
       "1           313401     6406        83237         1   87331.0  199.00\n",
       "2           248909      392        83237         1   32233.0   38.00\n",
       "3           208458      392        83237         1  174374.0  139.00\n",
       "4           110847     7211       135256         2  145952.0   32.99\n",
       "...            ...      ...          ...       ...       ...     ...\n",
       "846806      824255     4526       380022    255868  389713.0  268.00\n",
       "846807      790170     4280       379736    255872  322171.0   68.00\n",
       "846808      845286     6261       379736    255872  322171.0   88.00\n",
       "846809      824732     4520       379736    255872  322171.0   68.00\n",
       "846810      845337    11156       379603    255874   74120.0  279.00\n",
       "\n",
       "[846811 rows x 6 columns]"
      ]
     },
     "execution_count": 1,
     "metadata": {},
     "output_type": "execute_result"
    }
   ],
   "source": [
    "import pandas as pd\n",
    "ad_features = pd.read_csv('ad_feature.csv')\n",
    "ad_features\n",
    "del ad_features"
   ]
  },
  {
   "cell_type": "code",
   "execution_count": 2,
   "id": "19ae4f05-2fad-4d2c-a8e7-965031f5b2a0",
   "metadata": {},
   "outputs": [
    {
     "data": {
      "text/html": [
       "<div>\n",
       "<style scoped>\n",
       "    .dataframe tbody tr th:only-of-type {\n",
       "        vertical-align: middle;\n",
       "    }\n",
       "\n",
       "    .dataframe tbody tr th {\n",
       "        vertical-align: top;\n",
       "    }\n",
       "\n",
       "    .dataframe thead th {\n",
       "        text-align: right;\n",
       "    }\n",
       "</style>\n",
       "<table border=\"1\" class=\"dataframe\">\n",
       "  <thead>\n",
       "    <tr style=\"text-align: right;\">\n",
       "      <th></th>\n",
       "      <th>user</th>\n",
       "      <th>time_stamp</th>\n",
       "      <th>adgroup_id</th>\n",
       "      <th>pid</th>\n",
       "      <th>nonclk</th>\n",
       "      <th>clk</th>\n",
       "    </tr>\n",
       "  </thead>\n",
       "  <tbody>\n",
       "    <tr>\n",
       "      <th>0</th>\n",
       "      <td>581738</td>\n",
       "      <td>1494137644</td>\n",
       "      <td>1</td>\n",
       "      <td>430548_1007</td>\n",
       "      <td>1</td>\n",
       "      <td>0</td>\n",
       "    </tr>\n",
       "    <tr>\n",
       "      <th>1</th>\n",
       "      <td>449818</td>\n",
       "      <td>1494638778</td>\n",
       "      <td>3</td>\n",
       "      <td>430548_1007</td>\n",
       "      <td>1</td>\n",
       "      <td>0</td>\n",
       "    </tr>\n",
       "    <tr>\n",
       "      <th>2</th>\n",
       "      <td>914836</td>\n",
       "      <td>1494650879</td>\n",
       "      <td>4</td>\n",
       "      <td>430548_1007</td>\n",
       "      <td>1</td>\n",
       "      <td>0</td>\n",
       "    </tr>\n",
       "    <tr>\n",
       "      <th>3</th>\n",
       "      <td>914836</td>\n",
       "      <td>1494651029</td>\n",
       "      <td>5</td>\n",
       "      <td>430548_1007</td>\n",
       "      <td>1</td>\n",
       "      <td>0</td>\n",
       "    </tr>\n",
       "    <tr>\n",
       "      <th>4</th>\n",
       "      <td>399907</td>\n",
       "      <td>1494302958</td>\n",
       "      <td>8</td>\n",
       "      <td>430548_1007</td>\n",
       "      <td>1</td>\n",
       "      <td>0</td>\n",
       "    </tr>\n",
       "    <tr>\n",
       "      <th>...</th>\n",
       "      <td>...</td>\n",
       "      <td>...</td>\n",
       "      <td>...</td>\n",
       "      <td>...</td>\n",
       "      <td>...</td>\n",
       "      <td>...</td>\n",
       "    </tr>\n",
       "    <tr>\n",
       "      <th>26557956</th>\n",
       "      <td>6834</td>\n",
       "      <td>1494139949</td>\n",
       "      <td>846808</td>\n",
       "      <td>430548_1007</td>\n",
       "      <td>1</td>\n",
       "      <td>0</td>\n",
       "    </tr>\n",
       "    <tr>\n",
       "      <th>26557957</th>\n",
       "      <td>16815</td>\n",
       "      <td>1494328475</td>\n",
       "      <td>846808</td>\n",
       "      <td>430548_1007</td>\n",
       "      <td>1</td>\n",
       "      <td>0</td>\n",
       "    </tr>\n",
       "    <tr>\n",
       "      <th>26557958</th>\n",
       "      <td>736609</td>\n",
       "      <td>1494597871</td>\n",
       "      <td>846809</td>\n",
       "      <td>430548_1007</td>\n",
       "      <td>1</td>\n",
       "      <td>0</td>\n",
       "    </tr>\n",
       "    <tr>\n",
       "      <th>26557959</th>\n",
       "      <td>735781</td>\n",
       "      <td>1494684550</td>\n",
       "      <td>846809</td>\n",
       "      <td>430539_1007</td>\n",
       "      <td>1</td>\n",
       "      <td>0</td>\n",
       "    </tr>\n",
       "    <tr>\n",
       "      <th>26557960</th>\n",
       "      <td>735781</td>\n",
       "      <td>1494677729</td>\n",
       "      <td>846810</td>\n",
       "      <td>430539_1007</td>\n",
       "      <td>1</td>\n",
       "      <td>0</td>\n",
       "    </tr>\n",
       "  </tbody>\n",
       "</table>\n",
       "<p>26557961 rows × 6 columns</p>\n",
       "</div>"
      ],
      "text/plain": [
       "            user  time_stamp  adgroup_id          pid  nonclk  clk\n",
       "0         581738  1494137644           1  430548_1007       1    0\n",
       "1         449818  1494638778           3  430548_1007       1    0\n",
       "2         914836  1494650879           4  430548_1007       1    0\n",
       "3         914836  1494651029           5  430548_1007       1    0\n",
       "4         399907  1494302958           8  430548_1007       1    0\n",
       "...          ...         ...         ...          ...     ...  ...\n",
       "26557956    6834  1494139949      846808  430548_1007       1    0\n",
       "26557957   16815  1494328475      846808  430548_1007       1    0\n",
       "26557958  736609  1494597871      846809  430548_1007       1    0\n",
       "26557959  735781  1494684550      846809  430539_1007       1    0\n",
       "26557960  735781  1494677729      846810  430539_1007       1    0\n",
       "\n",
       "[26557961 rows x 6 columns]"
      ]
     },
     "execution_count": 2,
     "metadata": {},
     "output_type": "execute_result"
    }
   ],
   "source": [
    "import pandas as pd\n",
    "raw_sample = pd.read_csv('raw_sample.csv')\n",
    "raw_sample\n",
    "del raw_sample"
   ]
  },
  {
   "cell_type": "code",
   "execution_count": 3,
   "id": "d49ff752-22c7-4b07-9586-f2fbad524672",
   "metadata": {},
   "outputs": [
    {
     "data": {
      "text/html": [
       "<div>\n",
       "<style scoped>\n",
       "    .dataframe tbody tr th:only-of-type {\n",
       "        vertical-align: middle;\n",
       "    }\n",
       "\n",
       "    .dataframe tbody tr th {\n",
       "        vertical-align: top;\n",
       "    }\n",
       "\n",
       "    .dataframe thead th {\n",
       "        text-align: right;\n",
       "    }\n",
       "</style>\n",
       "<table border=\"1\" class=\"dataframe\">\n",
       "  <thead>\n",
       "    <tr style=\"text-align: right;\">\n",
       "      <th></th>\n",
       "      <th>userid</th>\n",
       "      <th>cms_segid</th>\n",
       "      <th>cms_group_id</th>\n",
       "      <th>final_gender_code</th>\n",
       "      <th>age_level</th>\n",
       "      <th>pvalue_level</th>\n",
       "      <th>shopping_level</th>\n",
       "      <th>occupation</th>\n",
       "      <th>new_user_class_level</th>\n",
       "    </tr>\n",
       "  </thead>\n",
       "  <tbody>\n",
       "    <tr>\n",
       "      <th>0</th>\n",
       "      <td>234</td>\n",
       "      <td>0</td>\n",
       "      <td>5</td>\n",
       "      <td>2</td>\n",
       "      <td>5</td>\n",
       "      <td>NaN</td>\n",
       "      <td>3</td>\n",
       "      <td>0</td>\n",
       "      <td>3.0</td>\n",
       "    </tr>\n",
       "    <tr>\n",
       "      <th>1</th>\n",
       "      <td>523</td>\n",
       "      <td>5</td>\n",
       "      <td>2</td>\n",
       "      <td>2</td>\n",
       "      <td>2</td>\n",
       "      <td>1.0</td>\n",
       "      <td>3</td>\n",
       "      <td>1</td>\n",
       "      <td>2.0</td>\n",
       "    </tr>\n",
       "    <tr>\n",
       "      <th>2</th>\n",
       "      <td>612</td>\n",
       "      <td>0</td>\n",
       "      <td>8</td>\n",
       "      <td>1</td>\n",
       "      <td>2</td>\n",
       "      <td>2.0</td>\n",
       "      <td>3</td>\n",
       "      <td>0</td>\n",
       "      <td>NaN</td>\n",
       "    </tr>\n",
       "    <tr>\n",
       "      <th>3</th>\n",
       "      <td>1670</td>\n",
       "      <td>0</td>\n",
       "      <td>4</td>\n",
       "      <td>2</td>\n",
       "      <td>4</td>\n",
       "      <td>NaN</td>\n",
       "      <td>1</td>\n",
       "      <td>0</td>\n",
       "      <td>NaN</td>\n",
       "    </tr>\n",
       "    <tr>\n",
       "      <th>4</th>\n",
       "      <td>2545</td>\n",
       "      <td>0</td>\n",
       "      <td>10</td>\n",
       "      <td>1</td>\n",
       "      <td>4</td>\n",
       "      <td>NaN</td>\n",
       "      <td>3</td>\n",
       "      <td>0</td>\n",
       "      <td>NaN</td>\n",
       "    </tr>\n",
       "    <tr>\n",
       "      <th>...</th>\n",
       "      <td>...</td>\n",
       "      <td>...</td>\n",
       "      <td>...</td>\n",
       "      <td>...</td>\n",
       "      <td>...</td>\n",
       "      <td>...</td>\n",
       "      <td>...</td>\n",
       "      <td>...</td>\n",
       "      <td>...</td>\n",
       "    </tr>\n",
       "    <tr>\n",
       "      <th>1061763</th>\n",
       "      <td>1137955</td>\n",
       "      <td>0</td>\n",
       "      <td>3</td>\n",
       "      <td>2</td>\n",
       "      <td>3</td>\n",
       "      <td>NaN</td>\n",
       "      <td>3</td>\n",
       "      <td>0</td>\n",
       "      <td>4.0</td>\n",
       "    </tr>\n",
       "    <tr>\n",
       "      <th>1061764</th>\n",
       "      <td>1138545</td>\n",
       "      <td>0</td>\n",
       "      <td>4</td>\n",
       "      <td>2</td>\n",
       "      <td>4</td>\n",
       "      <td>NaN</td>\n",
       "      <td>3</td>\n",
       "      <td>0</td>\n",
       "      <td>3.0</td>\n",
       "    </tr>\n",
       "    <tr>\n",
       "      <th>1061765</th>\n",
       "      <td>1138902</td>\n",
       "      <td>67</td>\n",
       "      <td>9</td>\n",
       "      <td>1</td>\n",
       "      <td>3</td>\n",
       "      <td>2.0</td>\n",
       "      <td>3</td>\n",
       "      <td>0</td>\n",
       "      <td>4.0</td>\n",
       "    </tr>\n",
       "    <tr>\n",
       "      <th>1061766</th>\n",
       "      <td>1139632</td>\n",
       "      <td>0</td>\n",
       "      <td>7</td>\n",
       "      <td>1</td>\n",
       "      <td>1</td>\n",
       "      <td>NaN</td>\n",
       "      <td>1</td>\n",
       "      <td>0</td>\n",
       "      <td>NaN</td>\n",
       "    </tr>\n",
       "    <tr>\n",
       "      <th>1061767</th>\n",
       "      <td>1139870</td>\n",
       "      <td>8</td>\n",
       "      <td>2</td>\n",
       "      <td>2</td>\n",
       "      <td>2</td>\n",
       "      <td>2.0</td>\n",
       "      <td>3</td>\n",
       "      <td>0</td>\n",
       "      <td>3.0</td>\n",
       "    </tr>\n",
       "  </tbody>\n",
       "</table>\n",
       "<p>1061768 rows × 9 columns</p>\n",
       "</div>"
      ],
      "text/plain": [
       "          userid  cms_segid  cms_group_id  final_gender_code  age_level  \\\n",
       "0            234          0             5                  2          5   \n",
       "1            523          5             2                  2          2   \n",
       "2            612          0             8                  1          2   \n",
       "3           1670          0             4                  2          4   \n",
       "4           2545          0            10                  1          4   \n",
       "...          ...        ...           ...                ...        ...   \n",
       "1061763  1137955          0             3                  2          3   \n",
       "1061764  1138545          0             4                  2          4   \n",
       "1061765  1138902         67             9                  1          3   \n",
       "1061766  1139632          0             7                  1          1   \n",
       "1061767  1139870          8             2                  2          2   \n",
       "\n",
       "         pvalue_level  shopping_level  occupation  new_user_class_level   \n",
       "0                 NaN               3           0                    3.0  \n",
       "1                 1.0               3           1                    2.0  \n",
       "2                 2.0               3           0                    NaN  \n",
       "3                 NaN               1           0                    NaN  \n",
       "4                 NaN               3           0                    NaN  \n",
       "...               ...             ...         ...                    ...  \n",
       "1061763           NaN               3           0                    4.0  \n",
       "1061764           NaN               3           0                    3.0  \n",
       "1061765           2.0               3           0                    4.0  \n",
       "1061766           NaN               1           0                    NaN  \n",
       "1061767           2.0               3           0                    3.0  \n",
       "\n",
       "[1061768 rows x 9 columns]"
      ]
     },
     "execution_count": 3,
     "metadata": {},
     "output_type": "execute_result"
    }
   ],
   "source": [
    "import pandas as pd\n",
    "user_profile = pd.read_csv('user_profile.csv')\n",
    "user_profile\n",
    "del user_profile"
   ]
  },
  {
   "cell_type": "code",
   "execution_count": 4,
   "id": "181d7abb-19f8-45cb-9c05-a353c81ecf6a",
   "metadata": {},
   "outputs": [
    {
     "data": {
      "text/html": [
       "<div>\n",
       "<style scoped>\n",
       "    .dataframe tbody tr th:only-of-type {\n",
       "        vertical-align: middle;\n",
       "    }\n",
       "\n",
       "    .dataframe tbody tr th {\n",
       "        vertical-align: top;\n",
       "    }\n",
       "\n",
       "    .dataframe thead th {\n",
       "        text-align: right;\n",
       "    }\n",
       "</style>\n",
       "<table border=\"1\" class=\"dataframe\">\n",
       "  <thead>\n",
       "    <tr style=\"text-align: right;\">\n",
       "      <th></th>\n",
       "      <th>1</th>\n",
       "      <th>2268318</th>\n",
       "      <th>2520377</th>\n",
       "      <th>pv</th>\n",
       "      <th>1511544070</th>\n",
       "    </tr>\n",
       "  </thead>\n",
       "  <tbody>\n",
       "    <tr>\n",
       "      <th>0</th>\n",
       "      <td>1</td>\n",
       "      <td>2333346</td>\n",
       "      <td>2520771</td>\n",
       "      <td>pv</td>\n",
       "      <td>1511561733</td>\n",
       "    </tr>\n",
       "    <tr>\n",
       "      <th>1</th>\n",
       "      <td>1</td>\n",
       "      <td>2576651</td>\n",
       "      <td>149192</td>\n",
       "      <td>pv</td>\n",
       "      <td>1511572885</td>\n",
       "    </tr>\n",
       "    <tr>\n",
       "      <th>2</th>\n",
       "      <td>1</td>\n",
       "      <td>3830808</td>\n",
       "      <td>4181361</td>\n",
       "      <td>pv</td>\n",
       "      <td>1511593493</td>\n",
       "    </tr>\n",
       "    <tr>\n",
       "      <th>3</th>\n",
       "      <td>1</td>\n",
       "      <td>4365585</td>\n",
       "      <td>2520377</td>\n",
       "      <td>pv</td>\n",
       "      <td>1511596146</td>\n",
       "    </tr>\n",
       "    <tr>\n",
       "      <th>4</th>\n",
       "      <td>1</td>\n",
       "      <td>4606018</td>\n",
       "      <td>2735466</td>\n",
       "      <td>pv</td>\n",
       "      <td>1511616481</td>\n",
       "    </tr>\n",
       "    <tr>\n",
       "      <th>...</th>\n",
       "      <td>...</td>\n",
       "      <td>...</td>\n",
       "      <td>...</td>\n",
       "      <td>...</td>\n",
       "      <td>...</td>\n",
       "    </tr>\n",
       "    <tr>\n",
       "      <th>100150801</th>\n",
       "      <td>999999</td>\n",
       "      <td>4797808</td>\n",
       "      <td>11120</td>\n",
       "      <td>pv</td>\n",
       "      <td>1512293403</td>\n",
       "    </tr>\n",
       "    <tr>\n",
       "      <th>100150802</th>\n",
       "      <td>999999</td>\n",
       "      <td>4613472</td>\n",
       "      <td>4602841</td>\n",
       "      <td>pv</td>\n",
       "      <td>1512293766</td>\n",
       "    </tr>\n",
       "    <tr>\n",
       "      <th>100150803</th>\n",
       "      <td>999999</td>\n",
       "      <td>3647364</td>\n",
       "      <td>2304296</td>\n",
       "      <td>pv</td>\n",
       "      <td>1512293792</td>\n",
       "    </tr>\n",
       "    <tr>\n",
       "      <th>100150804</th>\n",
       "      <td>999999</td>\n",
       "      <td>1903801</td>\n",
       "      <td>2304296</td>\n",
       "      <td>pv</td>\n",
       "      <td>1512293827</td>\n",
       "    </tr>\n",
       "    <tr>\n",
       "      <th>100150805</th>\n",
       "      <td>999999</td>\n",
       "      <td>3696094</td>\n",
       "      <td>4602841</td>\n",
       "      <td>pv</td>\n",
       "      <td>1512293891</td>\n",
       "    </tr>\n",
       "  </tbody>\n",
       "</table>\n",
       "<p>100150806 rows × 5 columns</p>\n",
       "</div>"
      ],
      "text/plain": [
       "                1  2268318  2520377  pv  1511544070\n",
       "0               1  2333346  2520771  pv  1511561733\n",
       "1               1  2576651   149192  pv  1511572885\n",
       "2               1  3830808  4181361  pv  1511593493\n",
       "3               1  4365585  2520377  pv  1511596146\n",
       "4               1  4606018  2735466  pv  1511616481\n",
       "...           ...      ...      ...  ..         ...\n",
       "100150801  999999  4797808    11120  pv  1512293403\n",
       "100150802  999999  4613472  4602841  pv  1512293766\n",
       "100150803  999999  3647364  2304296  pv  1512293792\n",
       "100150804  999999  1903801  2304296  pv  1512293827\n",
       "100150805  999999  3696094  4602841  pv  1512293891\n",
       "\n",
       "[100150806 rows x 5 columns]"
      ]
     },
     "execution_count": 4,
     "metadata": {},
     "output_type": "execute_result"
    }
   ],
   "source": [
    "import pandas as pd\n",
    "UserBehavior = pd.read_csv('UserBehavior.csv')\n",
    "UserBehavior\n",
    "del UserBehavior"
   ]
  },
  {
   "cell_type": "code",
   "execution_count": null,
   "id": "d36e3c97-c3d4-428b-baed-39e3bfcbac65",
   "metadata": {},
   "outputs": [],
   "source": []
  },
  {
   "cell_type": "code",
   "execution_count": 9,
   "id": "dff93c0b-0417-4814-a357-19f0af1519f7",
   "metadata": {},
   "outputs": [
    {
     "name": "stdout",
     "output_type": "stream",
     "text": [
      "Number of common users: 916856\n",
      "Percentage of common users: 92.80%\n"
     ]
    }
   ],
   "source": [
    "import pandas as pd\n",
    "\n",
    "# Load the datasets\n",
    "ecommerce_users = pd.read_csv(\"UserBehavior.csv\", usecols=[\"1\"])\n",
    "ad_users = pd.read_csv(\"user_profile.csv\", usecols=[\"userid\"])\n",
    "\n",
    "# Convert to sets for fast intersection\n",
    "ecommerce_users_set = set(ecommerce_users[\"1\"])\n",
    "ad_users_set = set(ad_users[\"userid\"])\n",
    "\n",
    "# Find common users\n",
    "common_users = ecommerce_users_set.intersection(ad_users_set)\n",
    "\n",
    "# Count total users in e-commerce dataset\n",
    "total_ecommerce_users = len(ecommerce_users_set)\n",
    "\n",
    "# Compute percentage\n",
    "percent_common_users = (len(common_users) / total_ecommerce_users) * 100\n",
    "\n",
    "# Print results\n",
    "print(f\"Number of common users: {len(common_users)}\")\n",
    "print(f\"Percentage of common users: {percent_common_users:.2f}%\")\n"
   ]
  },
  {
   "cell_type": "code",
   "execution_count": 18,
   "id": "41dbaed5-5df6-4cfd-bd3b-7efd9ff0e295",
   "metadata": {},
   "outputs": [
    {
     "name": "stdout",
     "output_type": "stream",
     "text": [
      "Number of common users: 916856\n",
      "Total unique users in e-commerce dataset: 987994\n",
      "Percentage of common users: 92.80%\n"
     ]
    }
   ],
   "source": [
    "import pandas as pd\n",
    "\n",
    "# Load the datasets\n",
    "ecommerce_users = pd.read_csv(\"UserBehavior.csv\", usecols=[\"1\"])\n",
    "ad_users = pd.read_csv(\"user_profile.csv\", usecols=[\"userid\"])\n",
    "\n",
    "# Convert to sets to get unique users\n",
    "ecommerce_users_set = set(ecommerce_users[\"1\"])  # Unique users in e-commerce dataset\n",
    "ad_users_set = set(ad_users[\"userid\"])  # Unique users in advertising dataset\n",
    "\n",
    "# Find common users\n",
    "common_users = ecommerce_users_set.intersection(ad_users_set)\n",
    "\n",
    "# Compute correct percentage (dividing by the number of unique users, not interactions)\n",
    "percent_common_users = (len(common_users) / len(ecommerce_users_set)) * 100\n",
    "\n",
    "\n"
   ]
  },
  {
   "cell_type": "code",
   "execution_count": null,
   "id": "db64fb55-78c4-4271-ae91-1ab12e3b99ca",
   "metadata": {},
   "outputs": [],
   "source": [
    "ad_users = pd.read_csv(\"user_profile.csv\", usecols=[\"userid\"])"
   ]
  },
  {
   "cell_type": "code",
   "execution_count": 21,
   "id": "5a054ce8-56c1-4220-8710-6c108b947135",
   "metadata": {},
   "outputs": [
    {
     "name": "stdout",
     "output_type": "stream",
     "text": [
      "Number of common users: 987994\n",
      "Total unique users in e-commerce dataset: 987994\n",
      "Total unique users in ads Users dataset: 1141729\n",
      "Percentage of common users: 100.00%\n"
     ]
    }
   ],
   "source": [
    "ad_users = pd.read_csv(\"raw_sample.csv\", usecols=[\"user\"])\n",
    "\n",
    "# Convert to sets to get unique users\n",
    "ecommerce_users_set = set(ecommerce_users[\"1\"])  # Unique users in e-commerce dataset\n",
    "ad_users_set = set(ad_users[\"user\"])  # Unique users in advertising dataset\n",
    "\n",
    "# Find common users\n",
    "common_users = ecommerce_users_set.intersection(ad_users_set)\n",
    "\n",
    "# Compute correct percentage (dividing by the number of unique users, not interactions)\n",
    "percent_common_users = (len(common_users) / len(ecommerce_users_set)) * 100\n",
    "# Print results\n",
    "print(f\"Number of common users: {len(common_users)}\")\n",
    "print(f\"Total unique users in e-commerce dataset: {len(ecommerce_users_set)}\")\n",
    "print(f\"Total unique users in ads Users dataset: {len(ad_users_set)}\")\n",
    "print(f\"Percentage of common users: {percent_common_users:.2f}%\")"
   ]
  },
  {
   "cell_type": "code",
   "execution_count": 20,
   "id": "9ded2fa8-8afb-408a-997e-65444424e187",
   "metadata": {},
   "outputs": [
    {
     "name": "stdout",
     "output_type": "stream",
     "text": [
      "Number of common users: 916856\n",
      "Total unique users in e-commerce dataset: 987994\n",
      "Total unique users in ads Users dataset: 1061768\n",
      "Percentage of common users: 92.80%\n"
     ]
    }
   ],
   "source": [
    "# Print results\n",
    "print(f\"Number of common users: {len(common_users)}\")\n",
    "print(f\"Total unique users in e-commerce dataset: {len(ecommerce_users_set)}\")\n",
    "print(f\"Total unique users in ads Users dataset: {len(ad_users_set)}\")\n",
    "print(f\"Percentage of common users: {percent_common_users:.2f}%\")"
   ]
  },
  {
   "cell_type": "code",
   "execution_count": null,
   "id": "ee8285df-b8b6-4836-a511-96acb391a5f9",
   "metadata": {},
   "outputs": [],
   "source": []
  },
  {
   "cell_type": "code",
   "execution_count": null,
   "id": "a9f18d1f-5d50-4750-84d5-0fbdc837481b",
   "metadata": {},
   "outputs": [],
   "source": []
  },
  {
   "cell_type": "code",
   "execution_count": 17,
   "id": "08a5c7cc-575e-4892-8ea0-74d1c004bafa",
   "metadata": {},
   "outputs": [],
   "source": [
    "del ecommerce_users\n",
    "del ad_users\n",
    "del ecommerce_users_set\n",
    "del ad_users_set\n",
    "del common_users\n",
    "del percent_common_users"
   ]
  },
  {
   "cell_type": "code",
   "execution_count": 13,
   "id": "a4ae96a3-0770-4c67-aa6b-5c99ba87baed",
   "metadata": {},
   "outputs": [
    {
     "name": "stdout",
     "output_type": "stream",
     "text": [
      "Pourcentage d'utilisateurs communs : 0.92%\n"
     ]
    }
   ],
   "source": [
    "percent_common_users = len(common_users) / len(ecommerce_users) * 100\n",
    "print(f\"Pourcentage d'utilisateurs communs : {percent_common_users:.2f}%\")"
   ]
  },
  {
   "cell_type": "code",
   "execution_count": 12,
   "id": "ad4fafce-50d0-40ac-831b-f990a6721a61",
   "metadata": {},
   "outputs": [
    {
     "name": "stdout",
     "output_type": "stream",
     "text": [
      "the users common :  916856\n"
     ]
    }
   ],
   "source": [
    "print(\"the users common : \", len(common_users))"
   ]
  },
  {
   "cell_type": "code",
   "execution_count": null,
   "id": "a6d3ed46-5bdd-4de2-829d-b2a45e4e9fd6",
   "metadata": {},
   "outputs": [],
   "source": []
  },
  {
   "cell_type": "code",
   "execution_count": 7,
   "id": "27fcfcc6-6fb5-4f3d-85a3-ddfdfc6c8287",
   "metadata": {},
   "outputs": [
    {
     "name": "stdout",
     "output_type": "stream",
     "text": [
      "Pourcentage des category communs : 0.00%\n"
     ]
    }
   ],
   "source": [
    "import pandas as pd\n",
    "\n",
    "# Charger les datasets\n",
    "ecommerce_category = pd.read_csv(\"UserBehavior.csv\", usecols=[\"2520377\"])\n",
    "ad_category = pd.read_csv(\"ad_feature.csv\", usecols=[\"brand\"])\n",
    "\n",
    "# Vérifier l'intersection des utilisateurs\n",
    "common_category = set(ecommerce_category[\"2520377\"]).intersection(set(ad_category[\"brand\"]))\n",
    "\n",
    "# Calculer le pourcentage d'utilisateurs communs\n",
    "percent_common_category = len(common_category) / len(ecommerce_category) * 100\n",
    "print(f\"Pourcentage des category communs : {percent_common_category:.2f}%\")\n"
   ]
  },
  {
   "cell_type": "code",
   "execution_count": null,
   "id": "780e3600-a156-4d11-afab-f09357a004f5",
   "metadata": {},
   "outputs": [],
   "source": []
  },
  {
   "cell_type": "code",
   "execution_count": null,
   "id": "570732ee-e33a-4f29-b775-19a205250be2",
   "metadata": {},
   "outputs": [],
   "source": []
  },
  {
   "cell_type": "code",
   "execution_count": null,
   "id": "c5889e85-501f-48ca-976f-6162c2ed6681",
   "metadata": {},
   "outputs": [],
   "source": []
  },
  {
   "cell_type": "code",
   "execution_count": 6,
   "id": "a1351885-8e6a-438c-a62f-40ccfe41492d",
   "metadata": {},
   "outputs": [
    {
     "data": {
      "text/html": [
       "<div>\n",
       "<style scoped>\n",
       "    .dataframe tbody tr th:only-of-type {\n",
       "        vertical-align: middle;\n",
       "    }\n",
       "\n",
       "    .dataframe tbody tr th {\n",
       "        vertical-align: top;\n",
       "    }\n",
       "\n",
       "    .dataframe thead th {\n",
       "        text-align: right;\n",
       "    }\n",
       "</style>\n",
       "<table border=\"1\" class=\"dataframe\">\n",
       "  <thead>\n",
       "    <tr style=\"text-align: right;\">\n",
       "      <th></th>\n",
       "      <th>user_id</th>\n",
       "      <th>item_id</th>\n",
       "      <th>category_id</th>\n",
       "      <th>behavior_type</th>\n",
       "      <th>timestamp</th>\n",
       "    </tr>\n",
       "  </thead>\n",
       "  <tbody>\n",
       "    <tr>\n",
       "      <th>0</th>\n",
       "      <td>1</td>\n",
       "      <td>2333346</td>\n",
       "      <td>2520771</td>\n",
       "      <td>pv</td>\n",
       "      <td>1511561733</td>\n",
       "    </tr>\n",
       "    <tr>\n",
       "      <th>1</th>\n",
       "      <td>1</td>\n",
       "      <td>2576651</td>\n",
       "      <td>149192</td>\n",
       "      <td>pv</td>\n",
       "      <td>1511572885</td>\n",
       "    </tr>\n",
       "    <tr>\n",
       "      <th>2</th>\n",
       "      <td>1</td>\n",
       "      <td>3830808</td>\n",
       "      <td>4181361</td>\n",
       "      <td>pv</td>\n",
       "      <td>1511593493</td>\n",
       "    </tr>\n",
       "    <tr>\n",
       "      <th>3</th>\n",
       "      <td>1</td>\n",
       "      <td>4365585</td>\n",
       "      <td>2520377</td>\n",
       "      <td>pv</td>\n",
       "      <td>1511596146</td>\n",
       "    </tr>\n",
       "    <tr>\n",
       "      <th>4</th>\n",
       "      <td>1</td>\n",
       "      <td>4606018</td>\n",
       "      <td>2735466</td>\n",
       "      <td>pv</td>\n",
       "      <td>1511616481</td>\n",
       "    </tr>\n",
       "    <tr>\n",
       "      <th>...</th>\n",
       "      <td>...</td>\n",
       "      <td>...</td>\n",
       "      <td>...</td>\n",
       "      <td>...</td>\n",
       "      <td>...</td>\n",
       "    </tr>\n",
       "    <tr>\n",
       "      <th>100150801</th>\n",
       "      <td>999999</td>\n",
       "      <td>4797808</td>\n",
       "      <td>11120</td>\n",
       "      <td>pv</td>\n",
       "      <td>1512293403</td>\n",
       "    </tr>\n",
       "    <tr>\n",
       "      <th>100150802</th>\n",
       "      <td>999999</td>\n",
       "      <td>4613472</td>\n",
       "      <td>4602841</td>\n",
       "      <td>pv</td>\n",
       "      <td>1512293766</td>\n",
       "    </tr>\n",
       "    <tr>\n",
       "      <th>100150803</th>\n",
       "      <td>999999</td>\n",
       "      <td>3647364</td>\n",
       "      <td>2304296</td>\n",
       "      <td>pv</td>\n",
       "      <td>1512293792</td>\n",
       "    </tr>\n",
       "    <tr>\n",
       "      <th>100150804</th>\n",
       "      <td>999999</td>\n",
       "      <td>1903801</td>\n",
       "      <td>2304296</td>\n",
       "      <td>pv</td>\n",
       "      <td>1512293827</td>\n",
       "    </tr>\n",
       "    <tr>\n",
       "      <th>100150805</th>\n",
       "      <td>999999</td>\n",
       "      <td>3696094</td>\n",
       "      <td>4602841</td>\n",
       "      <td>pv</td>\n",
       "      <td>1512293891</td>\n",
       "    </tr>\n",
       "  </tbody>\n",
       "</table>\n",
       "<p>100150806 rows × 5 columns</p>\n",
       "</div>"
      ],
      "text/plain": [
       "           user_id  item_id  category_id behavior_type   timestamp\n",
       "0                1  2333346      2520771            pv  1511561733\n",
       "1                1  2576651       149192            pv  1511572885\n",
       "2                1  3830808      4181361            pv  1511593493\n",
       "3                1  4365585      2520377            pv  1511596146\n",
       "4                1  4606018      2735466            pv  1511616481\n",
       "...            ...      ...          ...           ...         ...\n",
       "100150801   999999  4797808        11120            pv  1512293403\n",
       "100150802   999999  4613472      4602841            pv  1512293766\n",
       "100150803   999999  3647364      2304296            pv  1512293792\n",
       "100150804   999999  1903801      2304296            pv  1512293827\n",
       "100150805   999999  3696094      4602841            pv  1512293891\n",
       "\n",
       "[100150806 rows x 5 columns]"
      ]
     },
     "execution_count": 6,
     "metadata": {},
     "output_type": "execute_result"
    }
   ],
   "source": [
    "UserBehavior.columns = ['user_id', 'item_id', 'category_id', 'behavior_type', 'timestamp']\n",
    "UserBehavior"
   ]
  },
  {
   "cell_type": "code",
   "execution_count": null,
   "id": "975b945e-0f36-4a15-83ce-aaca36a7272e",
   "metadata": {},
   "outputs": [],
   "source": []
  },
  {
   "cell_type": "code",
   "execution_count": null,
   "id": "80e39836-3d0f-47a5-a318-92fb2119b92a",
   "metadata": {},
   "outputs": [],
   "source": []
  },
  {
   "cell_type": "code",
   "execution_count": 7,
   "id": "197f7b1d-25fa-4d53-bd8e-e05d8c079cae",
   "metadata": {},
   "outputs": [],
   "source": [
    "# Charger les datasets\n",
    "ecommerce_items = pd.read_csv(\"UserBehavior.csv\")\n",
    "ecommerce_items.columns = ['user_id', 'item_id', 'category_id', 'behavior_type', 'timestamp']\n",
    "\n"
   ]
  },
  {
   "cell_type": "code",
   "execution_count": 8,
   "id": "81baadc1-114c-4fbe-8c8c-77adbc13ed0e",
   "metadata": {},
   "outputs": [
    {
     "name": "stdout",
     "output_type": "stream",
     "text": [
      "Pourcentage d'items communs : 0.68%\n"
     ]
    }
   ],
   "source": [
    "ad_items = pd.read_csv(\"ad_feature.csv\", usecols=[\"brand\"])\n",
    "\n",
    "# Vérifier l'intersection des items\n",
    "common_items = set(ecommerce_items[\"item_id\"]).intersection(set(ad_items[\"adgroup_id\"]))\n",
    "\n",
    "# Calculer le pourcentage d'items communs\n",
    "percent_common_items = len(common_items) / len(ecommerce_items) * 100\n",
    "print(f\"Pourcentage d'items communs : {percent_common_items:.2f}%\")"
   ]
  },
  {
   "cell_type": "code",
   "execution_count": null,
   "id": "77f3c95e-b59d-4ead-a7eb-d58709ba62d1",
   "metadata": {},
   "outputs": [],
   "source": []
  },
  {
   "cell_type": "code",
   "execution_count": 3,
   "id": "f8f7aa5b-d1a2-40c4-86d2-9a38298b2997",
   "metadata": {
    "scrolled": true
   },
   "outputs": [
    {
     "name": "stdout",
     "output_type": "stream",
     "text": [
      "Pourcentage d'interactions utilisateur-item communes : 0.65%\n"
     ]
    }
   ],
   "source": [
    "import pandas as pd\n",
    "\n",
    "# Charger les datasets\n",
    "ecommerce_data = pd.read_csv(\"UserBehavior.csv\", usecols=[\"1\", \"2268318\"])\n",
    "ad_data = pd.read_csv(\"raw_sample.csv\", usecols=[\"user\", \"adgroup_id\"])\n",
    "\n",
    "# Vérifier les utilisateurs communs\n",
    "ecommerce_users = set(ecommerce_data[\"1\"])\n",
    "ad_users = set(ad_data[\"user\"])\n",
    "common_users = ecommerce_users.intersection(ad_users)\n",
    "\n",
    "# Filtrer les interactions des utilisateurs communs\n",
    "ecommerce_filtered = ecommerce_data[ecommerce_data[\"1\"].isin(common_users)]\n",
    "ad_filtered = ad_data[ad_data[\"user\"].isin(common_users)]\n",
    "\n",
    "# Vérifier les items communs\n",
    "ecommerce_items = set(ecommerce_filtered[\"2268318\"])\n",
    "ad_items = set(ad_filtered[\"adgroup_id\"])\n",
    "common_user_item_interactions = ecommerce_items.intersection(ad_items)\n",
    "\n",
    "# Calcul du pourcentage\n",
    "percent_common_user_item = len(common_user_item_interactions) / len(ecommerce_filtered) * 100\n",
    "print(f\"Pourcentage d'interactions utilisateur-item communes : {percent_common_user_item:.2f}%\")\n"
   ]
  },
  {
   "cell_type": "code",
   "execution_count": 8,
   "id": "92d12352-a2da-4a56-8103-3368969e72f0",
   "metadata": {},
   "outputs": [
    {
     "ename": "NameError",
     "evalue": "name 'ecommerce_data' is not defined",
     "output_type": "error",
     "traceback": [
      "\u001b[1;31m---------------------------------------------------------------------------\u001b[0m",
      "\u001b[1;31mNameError\u001b[0m                                 Traceback (most recent call last)",
      "Cell \u001b[1;32mIn[8], line 1\u001b[0m\n\u001b[1;32m----> 1\u001b[0m \u001b[38;5;28;01mdel\u001b[39;00m \u001b[43mecommerce_data\u001b[49m\n\u001b[0;32m      2\u001b[0m \u001b[38;5;28;01mdel\u001b[39;00m ad_data\n\u001b[0;32m      3\u001b[0m \u001b[38;5;28;01mdel\u001b[39;00m ecommerce_users\n",
      "\u001b[1;31mNameError\u001b[0m: name 'ecommerce_data' is not defined"
     ]
    }
   ],
   "source": [
    "del ecommerce_data\n",
    "del ad_data\n",
    "del ecommerce_users\n",
    "del ad_users\n",
    "del common_users\n",
    "del ecommerce_filtered\n",
    "del ad_filtered\n",
    "del common_user_item_interactions\n",
    "del percent_common_user_item"
   ]
  },
  {
   "cell_type": "code",
   "execution_count": 29,
   "id": "c3eab28c-42f6-4e33-a1a4-5e2643052075",
   "metadata": {},
   "outputs": [
    {
     "name": "stdout",
     "output_type": "stream",
     "text": [
      "Pourcentage d'interactions utilisateur-item communes : 16.41%\n"
     ]
    }
   ],
   "source": [
    "# Vérifier si les utilisateurs ET les items sont communs\n",
    "common_users_items = ecommerce_users[ecommerce_users[\"user_id\"].isin(common_users)]\n",
    "common_users_items = common_users_items[common_users_items[\"item_id\"].isin(common_items)]\n",
    "\n",
    "# Calculer le pourcentage\n",
    "percent_common_users_items = len(common_users_items) / len(ecommerce_users) * 100\n",
    "print(f\"Pourcentage d'interactions utilisateur-item communes : {percent_common_users_items:.2f}%\")\n"
   ]
  },
  {
   "cell_type": "code",
   "execution_count": 20,
   "id": "864f864a-c10f-4d12-9a14-0dd6304ea189",
   "metadata": {},
   "outputs": [],
   "source": [
    "del ecommerce_users"
   ]
  },
  {
   "cell_type": "code",
   "execution_count": null,
   "id": "b4993f94-53ea-43c1-a7df-384f81c4b6fb",
   "metadata": {},
   "outputs": [],
   "source": []
  },
  {
   "cell_type": "code",
   "execution_count": 24,
   "id": "9e2628db-aab5-460f-a413-cb4de8fdc78e",
   "metadata": {},
   "outputs": [],
   "source": [
    "from scipy.stats import pearsonr\n",
    "\n",
    "# Charger les taux d'achat et taux de clics\n",
    "ecommerce_behavior = pd.read_csv(\"UserBehavior.csv\", usecols=[\"pv\"])\n",
    "\n"
   ]
  },
  {
   "cell_type": "code",
   "execution_count": 26,
   "id": "200e900e-be40-494d-93b2-b84b9a8759a1",
   "metadata": {},
   "outputs": [],
   "source": [
    "del ecommerce_behavior"
   ]
  },
  {
   "cell_type": "code",
   "execution_count": 25,
   "id": "332f94d4-45a2-4a1e-9381-2156323ab5d5",
   "metadata": {},
   "outputs": [
    {
     "ename": "ValueError",
     "evalue": "x and y must have length at least 2.",
     "output_type": "error",
     "traceback": [
      "\u001b[1;31m---------------------------------------------------------------------------\u001b[0m",
      "\u001b[1;31mValueError\u001b[0m                                Traceback (most recent call last)",
      "\u001b[1;32m~\\AppData\\Local\\Temp\\ipykernel_14496\\916607133.py\u001b[0m in \u001b[0;36m?\u001b[1;34m()\u001b[0m\n\u001b[0;32m      2\u001b[0m \u001b[1;33m\u001b[0m\u001b[0m\n\u001b[0;32m      3\u001b[0m \u001b[0mecommerce_buy_rate\u001b[0m \u001b[1;33m=\u001b[0m \u001b[1;33m(\u001b[0m\u001b[0mecommerce_behavior\u001b[0m\u001b[1;33m[\u001b[0m\u001b[1;34m\"pv\"\u001b[0m\u001b[1;33m]\u001b[0m \u001b[1;33m==\u001b[0m \u001b[1;34m\"buy\"\u001b[0m\u001b[1;33m)\u001b[0m\u001b[1;33m.\u001b[0m\u001b[0mmean\u001b[0m\u001b[1;33m(\u001b[0m\u001b[1;33m)\u001b[0m\u001b[1;33m\u001b[0m\u001b[1;33m\u001b[0m\u001b[0m\n\u001b[0;32m      4\u001b[0m \u001b[0mad_click_rate\u001b[0m \u001b[1;33m=\u001b[0m \u001b[1;33m(\u001b[0m\u001b[0mad_clicks\u001b[0m\u001b[1;33m[\u001b[0m\u001b[1;34m\"nonclk\"\u001b[0m\u001b[1;33m]\u001b[0m \u001b[1;33m==\u001b[0m \u001b[1;36m1\u001b[0m\u001b[1;33m)\u001b[0m\u001b[1;33m.\u001b[0m\u001b[0mmean\u001b[0m\u001b[1;33m(\u001b[0m\u001b[1;33m)\u001b[0m\u001b[1;33m\u001b[0m\u001b[1;33m\u001b[0m\u001b[0m\n\u001b[0;32m      5\u001b[0m \u001b[1;33m\u001b[0m\u001b[0m\n\u001b[1;32m----> 6\u001b[1;33m \u001b[0mcorrelation\u001b[0m\u001b[1;33m,\u001b[0m \u001b[0m_\u001b[0m \u001b[1;33m=\u001b[0m \u001b[0mpearsonr\u001b[0m\u001b[1;33m(\u001b[0m\u001b[1;33m[\u001b[0m\u001b[0mecommerce_buy_rate\u001b[0m\u001b[1;33m]\u001b[0m\u001b[1;33m,\u001b[0m \u001b[1;33m[\u001b[0m\u001b[0mad_click_rate\u001b[0m\u001b[1;33m]\u001b[0m\u001b[1;33m)\u001b[0m\u001b[1;33m\u001b[0m\u001b[1;33m\u001b[0m\u001b[0m\n\u001b[0m\u001b[0;32m      7\u001b[0m \u001b[0mprint\u001b[0m\u001b[1;33m(\u001b[0m\u001b[1;33mf\"\u001b[0m\u001b[1;33mCorrélation entre taux de clic et taux d'achat : \u001b[0m\u001b[1;33m{\u001b[0m\u001b[0mcorrelation\u001b[0m\u001b[1;33m:\u001b[0m\u001b[1;33m.4f\u001b[0m\u001b[1;33m}\u001b[0m\u001b[1;33m\"\u001b[0m\u001b[1;33m)\u001b[0m\u001b[1;33m\u001b[0m\u001b[1;33m\u001b[0m\u001b[0m\n",
      "\u001b[1;32m~\\AppData\\Roaming\\Python\\Python312\\site-packages\\scipy\\stats\\_stats_py.py\u001b[0m in \u001b[0;36m?\u001b[1;34m(x, y, alternative, method)\u001b[0m\n\u001b[0;32m   4723\u001b[0m     \u001b[1;32mif\u001b[0m \u001b[0mn\u001b[0m \u001b[1;33m!=\u001b[0m \u001b[0mlen\u001b[0m\u001b[1;33m(\u001b[0m\u001b[0my\u001b[0m\u001b[1;33m)\u001b[0m\u001b[1;33m:\u001b[0m\u001b[1;33m\u001b[0m\u001b[1;33m\u001b[0m\u001b[0m\n\u001b[0;32m   4724\u001b[0m         \u001b[1;32mraise\u001b[0m \u001b[0mValueError\u001b[0m\u001b[1;33m(\u001b[0m\u001b[1;34m'x and y must have the same length.'\u001b[0m\u001b[1;33m)\u001b[0m\u001b[1;33m\u001b[0m\u001b[1;33m\u001b[0m\u001b[0m\n\u001b[0;32m   4725\u001b[0m \u001b[1;33m\u001b[0m\u001b[0m\n\u001b[0;32m   4726\u001b[0m     \u001b[1;32mif\u001b[0m \u001b[0mn\u001b[0m \u001b[1;33m<\u001b[0m \u001b[1;36m2\u001b[0m\u001b[1;33m:\u001b[0m\u001b[1;33m\u001b[0m\u001b[1;33m\u001b[0m\u001b[0m\n\u001b[1;32m-> 4727\u001b[1;33m         \u001b[1;32mraise\u001b[0m \u001b[0mValueError\u001b[0m\u001b[1;33m(\u001b[0m\u001b[1;34m'x and y must have length at least 2.'\u001b[0m\u001b[1;33m)\u001b[0m\u001b[1;33m\u001b[0m\u001b[1;33m\u001b[0m\u001b[0m\n\u001b[0m\u001b[0;32m   4728\u001b[0m \u001b[1;33m\u001b[0m\u001b[0m\n\u001b[0;32m   4729\u001b[0m     \u001b[0mx\u001b[0m \u001b[1;33m=\u001b[0m \u001b[0mnp\u001b[0m\u001b[1;33m.\u001b[0m\u001b[0masarray\u001b[0m\u001b[1;33m(\u001b[0m\u001b[0mx\u001b[0m\u001b[1;33m)\u001b[0m\u001b[1;33m\u001b[0m\u001b[1;33m\u001b[0m\u001b[0m\n\u001b[0;32m   4730\u001b[0m     \u001b[0my\u001b[0m \u001b[1;33m=\u001b[0m \u001b[0mnp\u001b[0m\u001b[1;33m.\u001b[0m\u001b[0masarray\u001b[0m\u001b[1;33m(\u001b[0m\u001b[0my\u001b[0m\u001b[1;33m)\u001b[0m\u001b[1;33m\u001b[0m\u001b[1;33m\u001b[0m\u001b[0m\n",
      "\u001b[1;31mValueError\u001b[0m: x and y must have length at least 2."
     ]
    }
   ],
   "source": [
    "import pandas as pd\n",
    "\n",
    "# Charger les datasets\n",
    "ecommerce_data = pd.read_csv(\"UserBehavior.csv\", usecols=[\"user_id\", \"item_id\"])\n",
    "ad_data = pd.read_csv(\"raw_sample.csv\", usecols=[\"user\", \"adgroup_id\"])\n",
    "\n",
    "# Vérifier les utilisateurs communs\n",
    "ecommerce_users = set(ecommerce_data[\"user_id\"])\n",
    "ad_users = set(ad_data[\"user\"])\n",
    "common_users = ecommerce_users.intersection(ad_users)\n",
    "\n",
    "# Filtrer les interactions des utilisateurs communs\n",
    "ecommerce_filtered = ecommerce_data[ecommerce_data[\"user_id\"].isin(common_users)]\n",
    "ad_filtered = ad_data[ad_data[\"user\"].isin(common_users)]\n",
    "\n",
    "# Vérifier les items communs\n",
    "ecommerce_items = set(ecommerce_filtered[\"item_id\"])\n",
    "ad_items = set(ad_filtered[\"adgroup_id\"])\n",
    "common_user_item_interactions = ecommerce_items.intersection(ad_items)\n",
    "\n",
    "# Calcul du pourcentage\n",
    "percent_common_user_item = len(common_user_item_interactions) / len(ecommerce_filtered) * 100\n",
    "print(f\"Pourcentage d'interactions utilisateur-item communes : {percent_common_user_item:.2f}%\")\n"
   ]
  },
  {
   "cell_type": "code",
   "execution_count": null,
   "id": "061ab0bc-8d1c-49f7-880c-cb3971d69726",
   "metadata": {},
   "outputs": [],
   "source": []
  },
  {
   "cell_type": "markdown",
   "id": "c531363c-65b4-4893-9757-28a0751f2399",
   "metadata": {},
   "source": [
    "# Calcule the Similarity"
   ]
  },
  {
   "cell_type": "code",
   "execution_count": 5,
   "id": "d60f25ae-0717-473a-89ae-16d6df4f33b0",
   "metadata": {},
   "outputs": [],
   "source": [
    "import pandas as pd\n",
    "\n",
    "# Load user IDs from both datasets\n",
    "ecommerce_users = pd.read_csv(\"UserBehavior.csv\")\n"
   ]
  },
  {
   "cell_type": "code",
   "execution_count": 4,
   "id": "854be697-e605-4e45-b682-357f449b6db9",
   "metadata": {},
   "outputs": [
    {
     "name": "stdout",
     "output_type": "stream",
     "text": [
      "Number of common users: 987994\n",
      "Total unique users in e-commerce dataset: 987994\n",
      "Percentage of common users: 100.00%\n"
     ]
    }
   ],
   "source": [
    "ecommerce_users.columns = ['user_id', 'item_id', 'category_id', 'behavior_type', 'timestamp']\n",
    "ad_users = pd.read_csv(\"raw_sample.csv\")\n",
    "\n",
    "# Convert to sets for unique user counts\n",
    "ecommerce_users_set = set(ecommerce_users[\"user_id\"])\n",
    "ad_users_set = set(ad_users[\"user\"])\n",
    "\n",
    "# Compute common users\n",
    "common_users = ecommerce_users_set.intersection(ad_users_set)\n",
    "\n",
    "# Compute percentage\n",
    "percent_common_users = (len(common_users) / len(ecommerce_users_set)) * 100\n",
    "\n",
    "# Print results\n",
    "print(f\"Number of common users: {len(common_users)}\")\n",
    "print(f\"Total unique users in e-commerce dataset: {len(ecommerce_users_set)}\")\n",
    "print(f\"Percentage of common users: {percent_common_users:.2f}%\")\n"
   ]
  },
  {
   "cell_type": "code",
   "execution_count": 10,
   "id": "aef3ce1b-5d4d-444d-9dbd-c9250c52040f",
   "metadata": {},
   "outputs": [
    {
     "name": "stdout",
     "output_type": "stream",
     "text": [
      "Total unique users in ads dataset: 1141729\n",
      "Total unique users in e-commerce dataset: 987994\n"
     ]
    }
   ],
   "source": [
    "print(f\"Total unique users in ads dataset: {len(ad_users_set)}\")\n",
    "print(f\"Total unique users in e-commerce dataset: {len(ecommerce_users_set)}\")\n"
   ]
  },
  {
   "cell_type": "markdown",
   "id": "33d0ad57-19fd-490a-8ebe-7569b84f9217",
   "metadata": {},
   "source": [
    "# Similarity Items"
   ]
  },
  {
   "cell_type": "code",
   "execution_count": 6,
   "id": "72c0daf5-958c-46b1-abe4-ef7674d2ed31",
   "metadata": {},
   "outputs": [
    {
     "name": "stdout",
     "output_type": "stream",
     "text": [
      "Number of common items: 682020\n",
      "Total unique items in e-commerce dataset: 4162024\n",
      "Percentage of common items: 16.39%\n"
     ]
    }
   ],
   "source": [
    "# Convert to sets for unique item counts\n",
    "ecommerce_items_set = set(ecommerce_users[\"item_id\"])\n",
    "ad_items_set = set(ad_users[\"adgroup_id\"])\n",
    "\n",
    "# Compute common items\n",
    "common_items = ecommerce_items_set.intersection(ad_items_set)\n",
    "\n",
    "# Compute percentage\n",
    "percent_common_items = (len(common_items) / len(ecommerce_items_set)) * 100\n",
    "\n",
    "# Print results\n",
    "print(f\"Number of common items: {len(common_items)}\")\n",
    "print(f\"Total unique items in e-commerce dataset: {len(ecommerce_items_set)}\")\n",
    "print(f\"Percentage of common items: {percent_common_items:.2f}%\")"
   ]
  },
  {
   "cell_type": "code",
   "execution_count": 7,
   "id": "62cd1cb8-5ad3-40a2-b08f-8c1ca3f2ca9d",
   "metadata": {},
   "outputs": [
    {
     "name": "stdout",
     "output_type": "stream",
     "text": [
      "total unique items in ads group : 846811\n"
     ]
    }
   ],
   "source": [
    "print(f\"total unique items in ads group : {len(ad_items_set)}\")"
   ]
  },
  {
   "cell_type": "markdown",
   "id": "e52d7749-5d19-44e5-9bfb-c164a1dbcf71",
   "metadata": {},
   "source": [
    "# Notes : \n",
    "- on a presque 4 millions items en dataset target\n",
    "- on a presque 846811 items en dataset source"
   ]
  },
  {
   "cell_type": "markdown",
   "id": "3a2ac926-e804-4898-b5e6-8728b8058682",
   "metadata": {},
   "source": [
    "# User-Item Interaction Similarity (Common User-Item Pairs)"
   ]
  },
  {
   "cell_type": "code",
   "execution_count": 8,
   "id": "9b9f0f6c-0d2e-4dfe-b101-76a4931fe38c",
   "metadata": {},
   "outputs": [
    {
     "name": "stdout",
     "output_type": "stream",
     "text": [
      "Number of common user-item interactions: 318\n",
      "Total unique user-item interactions in e-commerce dataset: 75969638\n",
      "Percentage of common user-item interactions: 0.00%\n"
     ]
    }
   ],
   "source": [
    "# Convert to sets for unique user-item pairs\n",
    "ecommerce_pairs = set(zip(ecommerce_users[\"user_id\"], ecommerce_users[\"item_id\"]))\n",
    "ad_pairs = set(zip(ad_users[\"user\"], ad_users[\"adgroup_id\"]))\n",
    "\n",
    "# Compute common user-item interactions\n",
    "common_user_item_interactions = ecommerce_pairs.intersection(ad_pairs)\n",
    "\n",
    "# Compute percentage\n",
    "percent_common_user_item = (len(common_user_item_interactions) / len(ecommerce_pairs)) * 100\n",
    "\n",
    "# Print results\n",
    "print(f\"Number of common user-item interactions: {len(common_user_item_interactions)}\")\n",
    "print(f\"Total unique user-item interactions in e-commerce dataset: {len(ecommerce_pairs)}\")\n",
    "print(f\"Percentage of common user-item interactions: {percent_common_user_item:.2f}%\")\n"
   ]
  },
  {
   "cell_type": "code",
   "execution_count": 9,
   "id": "83003893-6541-4d2d-8119-a89a45384682",
   "metadata": {},
   "outputs": [
    {
     "name": "stdout",
     "output_type": "stream",
     "text": [
      "Total unique user-item interactions in e-commerce dataset: 75969638\n",
      "Total unique user-item interactions in ad_paires dataset: 23195671\n",
      "Total unique user-item interactions in e-commerce dataset: 318\n"
     ]
    }
   ],
   "source": [
    "print(f\"Total unique user-item interactions in e-commerce dataset: {len(ecommerce_pairs)}\")\n",
    "print(f\"Total unique user-item interactions in ad_paires dataset: {len(ad_pairs)}\")\n",
    "print(f\"Total unique user-item interactions in e-commerce dataset: {len(common_user_item_interactions)}\")"
   ]
  },
  {
   "cell_type": "code",
   "execution_count": null,
   "id": "693cbcb0-4b1b-4efa-b8d6-c26c9658e1b5",
   "metadata": {},
   "outputs": [],
   "source": []
  },
  {
   "cell_type": "code",
   "execution_count": 13,
   "id": "779bc5fe-9c1b-46af-8396-1d60bc353580",
   "metadata": {},
   "outputs": [],
   "source": [
    "ecommerce_categories_set = set(ecommerce_users[\"category_id\"])\n",
    "\n"
   ]
  },
  {
   "cell_type": "code",
   "execution_count": 14,
   "id": "59cfc8cd-339c-4280-be91-424940c432d3",
   "metadata": {},
   "outputs": [
    {
     "name": "stdout",
     "output_type": "stream",
     "text": [
      "Percentage of common categories: 0.14%\n"
     ]
    }
   ],
   "source": [
    "ad_users = pd.read_csv('ad_feature.csv')\n",
    "ad_categories_set = set(ad_users[\"cate_id\"])\n",
    "common_categories = ecommerce_categories_set.intersection(ad_categories_set)\n",
    "percent_common_categories = (len(common_categories) / len(ecommerce_categories_set)) * 100\n",
    "print(f\"Percentage of common categories: {percent_common_categories:.2f}%\")"
   ]
  },
  {
   "cell_type": "code",
   "execution_count": 15,
   "id": "bb9100d5-a355-4d62-8bc3-6e29b0abe232",
   "metadata": {},
   "outputs": [
    {
     "name": "stdout",
     "output_type": "stream",
     "text": [
      "Total unique categories interactions in e-commerce dataset: 9439\n",
      "Total unique categories interactions in ads dataset: 6769\n",
      "Common categories: 13\n",
      "Percentage of common categories: 0.14%\n"
     ]
    }
   ],
   "source": [
    "print(f\"Total unique categories interactions in e-commerce dataset: {len(ecommerce_categories_set)}\")\n",
    "print(f\"Total unique categories in ads dataset: {len(ad_categories_set)}\")\n",
    "print(f\"Common categories: {len(common_categories)}\")\n",
    "print(f\"Percentage of common categories: {percent_common_categories:.2f}%\")"
   ]
  },
  {
   "cell_type": "code",
   "execution_count": null,
   "id": "07ef5047-248b-4745-9dd9-193662564f46",
   "metadata": {},
   "outputs": [],
   "source": []
  }
 ],
 "metadata": {
  "kernelspec": {
   "display_name": "Python 3 (ipykernel)",
   "language": "python",
   "name": "python3"
  },
  "language_info": {
   "codemirror_mode": {
    "name": "ipython",
    "version": 3
   },
   "file_extension": ".py",
   "mimetype": "text/x-python",
   "name": "python",
   "nbconvert_exporter": "python",
   "pygments_lexer": "ipython3",
   "version": "3.12.4"
  }
 },
 "nbformat": 4,
 "nbformat_minor": 5
}
