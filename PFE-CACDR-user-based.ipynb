{
 "cells": [
  {
   "cell_type": "code",
   "execution_count": 1,
   "id": "e71a55f0-6c46-4788-a1bb-40ad97e969b9",
   "metadata": {},
   "outputs": [],
   "source": [
    "import pandas as pd\n",
    "import numpy as np\n",
    "import torch\n",
    "import torch.nn as nn\n",
    "import torch.optim as optim\n",
    "import matplotlib.pyplot as plt\n",
    "from sklearn.preprocessing import StandardScaler\n",
    "from sklearn.metrics import mean_squared_error, mean_absolute_error, r2_score, roc_auc_score\n",
    "from sklearn.metrics.pairwise import cosine_similarity\n",
    "from scipy.sparse import csr_matrix\n",
    "from sklearn.decomposition import TruncatedSVD"
   ]
  },
  {
   "cell_type": "code",
   "execution_count": 2,
   "id": "82aa70fa-5896-4aae-8ec0-98c342716084",
   "metadata": {},
   "outputs": [],
   "source": [
    "# 🔹 Step 1: Load & Preprocess Data\n",
    "ad_data = pd.read_csv(\"raw_sample.csv\", usecols=[\"user\", \"adgroup_id\", \"nonclk\"])\n",
    "ecommerce_data = pd.read_csv(\"UserBehavior.csv\")\n",
    "ecommerce_data.columns = ['user_id', 'item_id', 'category_id', 'behavior_type', 'timestamp']\n",
    "\n"
   ]
  },
  {
   "cell_type": "code",
   "execution_count": 3,
   "id": "19ca9132-84bb-401a-a314-95cc146282f8",
   "metadata": {},
   "outputs": [],
   "source": [
    "# Rename columns for consistency\n",
    "ad_data.rename(columns={\"user\": \"user_id\", \"adgroup_id\": \"item_id\", \"nonclk\": \"interaction\"}, inplace=True)\n",
    "ecommerce_data[\"interaction\"] = ecommerce_data[\"behavior_type\"].apply(lambda x: 1 if x == \"buy\" else 0)\n",
    "\n",
    "# Keep only relevant columns\n",
    "ad_data = ad_data[[\"user_id\", \"item_id\", \"interaction\"]]\n",
    "ecommerce_data = ecommerce_data[[\"user_id\", \"item_id\", \"interaction\"]]\n"
   ]
  },
  {
   "cell_type": "code",
   "execution_count": 36,
   "id": "6b986f6f-856a-4ace-9fbe-5ae158157f9a",
   "metadata": {},
   "outputs": [],
   "source": [
    "# 🔹 Step 2: Filter Common Users & Sample 20%\n",
    "common_users = list(set(ad_data[\"user_id\"]).intersection(set(ecommerce_data[\"user_id\"])))\n",
    "sampled_users = np.random.choice(common_users, int(0.3 * len(common_users)), replace=False)\n",
    "ad_data = ad_data[ad_data[\"user_id\"].isin(sampled_users)]\n",
    "ecommerce_data = ecommerce_data[ecommerce_data[\"user_id\"].isin(sampled_users)]\n",
    "\n"
   ]
  },
  {
   "cell_type": "code",
   "execution_count": 37,
   "id": "d7c73a08-e2d3-4b75-a9c4-2275fc006478",
   "metadata": {},
   "outputs": [],
   "source": [
    "# 🔹 Step 3: Train User Embeddings Using SVD\n",
    "def train_user_embeddings(data, embedding_dim=32):\n",
    "    data = data.groupby([\"user_id\", \"item_id\"]).agg({\"interaction\": \"sum\"}).reset_index()\n",
    "    user_mapping = {user: idx for idx, user in enumerate(data[\"user_id\"].unique())}\n",
    "    item_mapping = {item: idx for idx, item in enumerate(data[\"item_id\"].unique())}\n",
    "    data[\"user_idx\"] = data[\"user_id\"].map(user_mapping)\n",
    "    data[\"item_idx\"] = data[\"item_id\"].map(item_mapping)\n",
    "\n",
    "    interaction_matrix = csr_matrix(\n",
    "        (data[\"interaction\"], (data[\"user_idx\"], data[\"item_idx\"])),\n",
    "        shape=(len(user_mapping), len(item_mapping))\n",
    "    )\n",
    "\n",
    "    svd = TruncatedSVD(n_components=embedding_dim, random_state=42)\n",
    "    user_embeddings = svd.fit_transform(interaction_matrix)\n",
    "\n",
    "    return {user: embedding for user, embedding in zip(user_mapping.keys(), user_embeddings)}\n"
   ]
  },
  {
   "cell_type": "code",
   "execution_count": 38,
   "id": "50f2cbe6-6379-4e57-8eb4-02a5912ff16c",
   "metadata": {},
   "outputs": [],
   "source": [
    "# Train embeddings\n",
    "source_user_embeddings = train_user_embeddings(ad_data)\n",
    "target_user_embeddings = train_user_embeddings(ecommerce_data)\n",
    "\n"
   ]
  },
  {
   "cell_type": "code",
   "execution_count": 39,
   "id": "cb02e6be-d41b-4375-8b75-869a5b596884",
   "metadata": {},
   "outputs": [],
   "source": [
    "# 🔹 Step 4: Prepare Data for Autoencoder Training\n",
    "X_train, Y_train = [], []\n",
    "for user in sampled_users:\n",
    "    if user in source_user_embeddings and user in target_user_embeddings:\n",
    "        X_train.append(source_user_embeddings[user])\n",
    "        Y_train.append(target_user_embeddings[user])\n",
    "\n",
    "X_train, Y_train = np.array(X_train), np.array(Y_train)\n",
    "\n",
    "# Normalize embeddings\n",
    "scaler = StandardScaler()\n",
    "X_train = scaler.fit_transform(X_train)\n",
    "Y_train = scaler.fit_transform(Y_train)\n",
    "\n",
    "# Convert to tensors\n",
    "X_train_torch = torch.tensor(X_train, dtype=torch.float32)\n",
    "Y_train_torch = torch.tensor(Y_train, dtype=torch.float32)\n",
    "\n",
    "# Split train/test (80/20)\n",
    "train_size = int(0.8 * len(X_train_torch))\n",
    "X_train_torch, X_test_torch = X_train_torch[:train_size], X_train_torch[train_size:]\n",
    "Y_train_torch, Y_test_torch = Y_train_torch[:train_size], Y_train_torch[train_size:]\n",
    "\n"
   ]
  },
  {
   "cell_type": "code",
   "execution_count": 40,
   "id": "458305af-7276-48f8-9bae-594bd5647357",
   "metadata": {},
   "outputs": [],
   "source": [
    "class Autoencoder(nn.Module):\n",
    "    def __init__(self, embedding_dim=32):\n",
    "        super(Autoencoder, self).__init__()\n",
    "        self.encoder = nn.Sequential(\n",
    "            nn.Linear(embedding_dim, 128),\n",
    "            nn.ReLU(),\n",
    "            nn.Dropout(0.3),  # 🔹 Added Dropout (30%)\n",
    "            nn.Linear(128, 64),\n",
    "            nn.ReLU(),\n",
    "            nn.Linear(64, 32),\n",
    "            nn.ReLU()\n",
    "        )\n",
    "        self.decoder = nn.Sequential(\n",
    "            nn.Linear(32, 64),\n",
    "            nn.ReLU(),\n",
    "            nn.Linear(64, 128),\n",
    "            nn.ReLU(),\n",
    "            nn.Linear(128, embedding_dim)\n",
    "        )\n",
    "\n",
    "    def forward(self, x):\n",
    "        encoded = self.encoder(x)\n",
    "        decoded = self.decoder(encoded)\n",
    "        return encoded, decoded\n",
    "\n",
    "# Use lower learning rate + weight decay\n",
    "optimizer = optim.Adam(model.parameters(), lr=0.0001, weight_decay=1e-3)  # 🔹 Added L2 regularization\n"
   ]
  },
  {
   "cell_type": "code",
   "execution_count": 41,
   "id": "74fbcfb8-f3c2-4f0d-a8b8-f9ef15e0b708",
   "metadata": {},
   "outputs": [],
   "source": [
    "def joint_loss(decoded_source, decoded_target, aligned_source, true_source, true_target):\n",
    "    mse_loss = nn.MSELoss()\n",
    "    cos_loss = 1 - torch.nn.functional.cosine_similarity(aligned_source, true_target).mean()  # 🔹 Cosine Similarity Loss\n",
    "\n",
    "    recon_loss = mse_loss(decoded_source, true_source) + mse_loss(decoded_target, true_target)\n",
    "    coupling_loss = mse_loss(aligned_source, true_target) + cos_loss  # 🔹 Added Cosine Loss\n",
    "\n",
    "    return recon_loss + 0.5 * coupling_loss  # 🔹 Adjusted weighting\n"
   ]
  },
  {
   "cell_type": "code",
   "execution_count": 42,
   "id": "e29bab4f-f6e2-4854-b3e0-b9cd4a7ffe50",
   "metadata": {},
   "outputs": [
    {
     "name": "stdout",
     "output_type": "stream",
     "text": [
      "Epoch 1, Train Loss: 2.5607, Test Loss: 2.4421\n",
      "Epoch 2, Train Loss: 2.5274, Test Loss: 2.4290\n",
      "Epoch 3, Train Loss: 2.5029, Test Loss: 2.5228\n",
      "Epoch 4, Train Loss: 2.5212, Test Loss: 2.4385\n",
      "Epoch 5, Train Loss: 2.5559, Test Loss: 2.4316\n",
      "Epoch 6, Train Loss: 2.5247, Test Loss: 2.4785\n",
      "Epoch 7, Train Loss: 2.5712, Test Loss: 2.4605\n",
      "Epoch 8, Train Loss: 2.5667, Test Loss: 2.4522\n",
      "Epoch 9, Train Loss: 2.5337, Test Loss: 2.4885\n",
      "Epoch 10, Train Loss: 2.5061, Test Loss: 2.4306\n",
      "Epoch 11, Train Loss: 2.5524, Test Loss: 2.5409\n",
      "Epoch 12, Train Loss: 2.5392, Test Loss: 2.4622\n",
      "⏳ Early stopping triggered!\n"
     ]
    }
   ],
   "source": [
    "best_loss = float(\"inf\")\n",
    "patience = 10  # 🔹 Stop training if no improvement for 10 epochs\n",
    "counter = 0\n",
    "\n",
    "train_losses = []\n",
    "test_losses = []\n",
    "\n",
    "for epoch in range(200):\n",
    "    optimizer.zero_grad()\n",
    "    encoded_source, decoded_source, encoded_target, decoded_target, aligned_source = model(X_train_torch, Y_train_torch)\n",
    "    loss = joint_loss(decoded_source, decoded_target, aligned_source, X_train_torch, Y_train_torch)\n",
    "    loss.backward()\n",
    "    optimizer.step()\n",
    "\n",
    "    # Validate\n",
    "    with torch.no_grad():\n",
    "        _, decoded_source_test, _, decoded_target_test, aligned_source_test = model(X_test_torch, Y_test_torch)\n",
    "        test_loss = joint_loss(decoded_source_test, decoded_target_test, aligned_source_test, X_test_torch, Y_test_torch)\n",
    "\n",
    "    print(f\"Epoch {epoch+1}, Train Loss: {loss.item():.4f}, Test Loss: {test_loss.item():.4f}\")\n",
    "\n",
    "    # 🔹 Early Stopping\n",
    "    if test_loss < best_loss:\n",
    "        best_loss = test_loss\n",
    "        counter = 0  # Reset counter if improvement\n",
    "        torch.save(model.state_dict(), \"best_coupled_autoencoder.pth\")  # Save best model\n",
    "    else:\n",
    "        counter += 1\n",
    "        if counter >= patience:\n",
    "            print(\"⏳ Early stopping triggered!\")\n",
    "            break\n"
   ]
  },
  {
   "cell_type": "code",
   "execution_count": 43,
   "id": "29e14f93-c96c-41da-8e9a-1d2c37a0e824",
   "metadata": {
    "scrolled": true
   },
   "outputs": [
    {
     "name": "stdout",
     "output_type": "stream",
     "text": [
      "Label Distribution in y_true:\n",
      "(array([0, 1]), array([8892, 2964], dtype=int64))\n",
      "AUC Score: 1.0\n",
      "\n",
      "🔹 Evaluation Metrics:\n",
      "Mean Squared Error (MSE): 0.5025\n",
      "Mean Absolute Error (MAE): 0.0786\n",
      "R² Score: -82.7816\n",
      "Average Cosine Similarity: 0.2157\n",
      "AUC Score: 1.0000\n"
     ]
    },
    {
     "ename": "ValueError",
     "evalue": "x and y must have same first dimension, but have shapes (200,) and (0,)",
     "output_type": "error",
     "traceback": [
      "\u001b[1;31m---------------------------------------------------------------------------\u001b[0m",
      "\u001b[1;31mValueError\u001b[0m                                Traceback (most recent call last)",
      "Cell \u001b[1;32mIn[43], line 44\u001b[0m\n\u001b[0;32m     42\u001b[0m \u001b[38;5;66;03m# 🔹 Step 8: Plot Loss Curves\u001b[39;00m\n\u001b[0;32m     43\u001b[0m plt\u001b[38;5;241m.\u001b[39mfigure(figsize\u001b[38;5;241m=\u001b[39m(\u001b[38;5;241m10\u001b[39m, \u001b[38;5;241m5\u001b[39m))\n\u001b[1;32m---> 44\u001b[0m \u001b[43mplt\u001b[49m\u001b[38;5;241;43m.\u001b[39;49m\u001b[43mplot\u001b[49m\u001b[43m(\u001b[49m\u001b[38;5;28;43mrange\u001b[39;49m\u001b[43m(\u001b[49m\u001b[38;5;241;43m1\u001b[39;49m\u001b[43m,\u001b[49m\u001b[43m \u001b[49m\u001b[43mepochs\u001b[49m\u001b[43m \u001b[49m\u001b[38;5;241;43m+\u001b[39;49m\u001b[43m \u001b[49m\u001b[38;5;241;43m1\u001b[39;49m\u001b[43m)\u001b[49m\u001b[43m,\u001b[49m\u001b[43m \u001b[49m\u001b[43mtrain_losses\u001b[49m\u001b[43m,\u001b[49m\u001b[43m \u001b[49m\u001b[43mlabel\u001b[49m\u001b[38;5;241;43m=\u001b[39;49m\u001b[38;5;124;43m\"\u001b[39;49m\u001b[38;5;124;43mTrain Loss\u001b[39;49m\u001b[38;5;124;43m\"\u001b[39;49m\u001b[43m)\u001b[49m\n\u001b[0;32m     45\u001b[0m plt\u001b[38;5;241m.\u001b[39mplot(\u001b[38;5;28mrange\u001b[39m(\u001b[38;5;241m1\u001b[39m, epochs \u001b[38;5;241m+\u001b[39m \u001b[38;5;241m1\u001b[39m), test_losses, label\u001b[38;5;241m=\u001b[39m\u001b[38;5;124m\"\u001b[39m\u001b[38;5;124mTest Loss\u001b[39m\u001b[38;5;124m\"\u001b[39m)\n\u001b[0;32m     46\u001b[0m plt\u001b[38;5;241m.\u001b[39mxlabel(\u001b[38;5;124m\"\u001b[39m\u001b[38;5;124mEpochs\u001b[39m\u001b[38;5;124m\"\u001b[39m)\n",
      "File \u001b[1;32mC:\\ProgramData\\anaconda3\\Lib\\site-packages\\matplotlib\\pyplot.py:3590\u001b[0m, in \u001b[0;36mplot\u001b[1;34m(scalex, scaley, data, *args, **kwargs)\u001b[0m\n\u001b[0;32m   3582\u001b[0m \u001b[38;5;129m@_copy_docstring_and_deprecators\u001b[39m(Axes\u001b[38;5;241m.\u001b[39mplot)\n\u001b[0;32m   3583\u001b[0m \u001b[38;5;28;01mdef\u001b[39;00m \u001b[38;5;21mplot\u001b[39m(\n\u001b[0;32m   3584\u001b[0m     \u001b[38;5;241m*\u001b[39margs: \u001b[38;5;28mfloat\u001b[39m \u001b[38;5;241m|\u001b[39m ArrayLike \u001b[38;5;241m|\u001b[39m \u001b[38;5;28mstr\u001b[39m,\n\u001b[1;32m   (...)\u001b[0m\n\u001b[0;32m   3588\u001b[0m     \u001b[38;5;241m*\u001b[39m\u001b[38;5;241m*\u001b[39mkwargs,\n\u001b[0;32m   3589\u001b[0m ) \u001b[38;5;241m-\u001b[39m\u001b[38;5;241m>\u001b[39m \u001b[38;5;28mlist\u001b[39m[Line2D]:\n\u001b[1;32m-> 3590\u001b[0m     \u001b[38;5;28;01mreturn\u001b[39;00m \u001b[43mgca\u001b[49m\u001b[43m(\u001b[49m\u001b[43m)\u001b[49m\u001b[38;5;241;43m.\u001b[39;49m\u001b[43mplot\u001b[49m\u001b[43m(\u001b[49m\n\u001b[0;32m   3591\u001b[0m \u001b[43m        \u001b[49m\u001b[38;5;241;43m*\u001b[39;49m\u001b[43margs\u001b[49m\u001b[43m,\u001b[49m\n\u001b[0;32m   3592\u001b[0m \u001b[43m        \u001b[49m\u001b[43mscalex\u001b[49m\u001b[38;5;241;43m=\u001b[39;49m\u001b[43mscalex\u001b[49m\u001b[43m,\u001b[49m\n\u001b[0;32m   3593\u001b[0m \u001b[43m        \u001b[49m\u001b[43mscaley\u001b[49m\u001b[38;5;241;43m=\u001b[39;49m\u001b[43mscaley\u001b[49m\u001b[43m,\u001b[49m\n\u001b[0;32m   3594\u001b[0m \u001b[43m        \u001b[49m\u001b[38;5;241;43m*\u001b[39;49m\u001b[38;5;241;43m*\u001b[39;49m\u001b[43m(\u001b[49m\u001b[43m{\u001b[49m\u001b[38;5;124;43m\"\u001b[39;49m\u001b[38;5;124;43mdata\u001b[39;49m\u001b[38;5;124;43m\"\u001b[39;49m\u001b[43m:\u001b[49m\u001b[43m \u001b[49m\u001b[43mdata\u001b[49m\u001b[43m}\u001b[49m\u001b[43m \u001b[49m\u001b[38;5;28;43;01mif\u001b[39;49;00m\u001b[43m \u001b[49m\u001b[43mdata\u001b[49m\u001b[43m \u001b[49m\u001b[38;5;129;43;01mis\u001b[39;49;00m\u001b[43m \u001b[49m\u001b[38;5;129;43;01mnot\u001b[39;49;00m\u001b[43m \u001b[49m\u001b[38;5;28;43;01mNone\u001b[39;49;00m\u001b[43m \u001b[49m\u001b[38;5;28;43;01melse\u001b[39;49;00m\u001b[43m \u001b[49m\u001b[43m{\u001b[49m\u001b[43m}\u001b[49m\u001b[43m)\u001b[49m\u001b[43m,\u001b[49m\n\u001b[0;32m   3595\u001b[0m \u001b[43m        \u001b[49m\u001b[38;5;241;43m*\u001b[39;49m\u001b[38;5;241;43m*\u001b[39;49m\u001b[43mkwargs\u001b[49m\u001b[43m,\u001b[49m\n\u001b[0;32m   3596\u001b[0m \u001b[43m    \u001b[49m\u001b[43m)\u001b[49m\n",
      "File \u001b[1;32mC:\\ProgramData\\anaconda3\\Lib\\site-packages\\matplotlib\\axes\\_axes.py:1724\u001b[0m, in \u001b[0;36mAxes.plot\u001b[1;34m(self, scalex, scaley, data, *args, **kwargs)\u001b[0m\n\u001b[0;32m   1481\u001b[0m \u001b[38;5;250m\u001b[39m\u001b[38;5;124;03m\"\"\"\u001b[39;00m\n\u001b[0;32m   1482\u001b[0m \u001b[38;5;124;03mPlot y versus x as lines and/or markers.\u001b[39;00m\n\u001b[0;32m   1483\u001b[0m \n\u001b[1;32m   (...)\u001b[0m\n\u001b[0;32m   1721\u001b[0m \u001b[38;5;124;03m(``'green'``) or hex strings (``'#008000'``).\u001b[39;00m\n\u001b[0;32m   1722\u001b[0m \u001b[38;5;124;03m\"\"\"\u001b[39;00m\n\u001b[0;32m   1723\u001b[0m kwargs \u001b[38;5;241m=\u001b[39m cbook\u001b[38;5;241m.\u001b[39mnormalize_kwargs(kwargs, mlines\u001b[38;5;241m.\u001b[39mLine2D)\n\u001b[1;32m-> 1724\u001b[0m lines \u001b[38;5;241m=\u001b[39m [\u001b[38;5;241m*\u001b[39m\u001b[38;5;28mself\u001b[39m\u001b[38;5;241m.\u001b[39m_get_lines(\u001b[38;5;28mself\u001b[39m, \u001b[38;5;241m*\u001b[39margs, data\u001b[38;5;241m=\u001b[39mdata, \u001b[38;5;241m*\u001b[39m\u001b[38;5;241m*\u001b[39mkwargs)]\n\u001b[0;32m   1725\u001b[0m \u001b[38;5;28;01mfor\u001b[39;00m line \u001b[38;5;129;01min\u001b[39;00m lines:\n\u001b[0;32m   1726\u001b[0m     \u001b[38;5;28mself\u001b[39m\u001b[38;5;241m.\u001b[39madd_line(line)\n",
      "File \u001b[1;32mC:\\ProgramData\\anaconda3\\Lib\\site-packages\\matplotlib\\axes\\_base.py:303\u001b[0m, in \u001b[0;36m_process_plot_var_args.__call__\u001b[1;34m(self, axes, data, *args, **kwargs)\u001b[0m\n\u001b[0;32m    301\u001b[0m     this \u001b[38;5;241m+\u001b[39m\u001b[38;5;241m=\u001b[39m args[\u001b[38;5;241m0\u001b[39m],\n\u001b[0;32m    302\u001b[0m     args \u001b[38;5;241m=\u001b[39m args[\u001b[38;5;241m1\u001b[39m:]\n\u001b[1;32m--> 303\u001b[0m \u001b[38;5;28;01myield from\u001b[39;00m \u001b[38;5;28;43mself\u001b[39;49m\u001b[38;5;241;43m.\u001b[39;49m\u001b[43m_plot_args\u001b[49m\u001b[43m(\u001b[49m\n\u001b[0;32m    304\u001b[0m \u001b[43m    \u001b[49m\u001b[43maxes\u001b[49m\u001b[43m,\u001b[49m\u001b[43m \u001b[49m\u001b[43mthis\u001b[49m\u001b[43m,\u001b[49m\u001b[43m \u001b[49m\u001b[43mkwargs\u001b[49m\u001b[43m,\u001b[49m\u001b[43m \u001b[49m\u001b[43mambiguous_fmt_datakey\u001b[49m\u001b[38;5;241;43m=\u001b[39;49m\u001b[43mambiguous_fmt_datakey\u001b[49m\u001b[43m)\u001b[49m\n",
      "File \u001b[1;32mC:\\ProgramData\\anaconda3\\Lib\\site-packages\\matplotlib\\axes\\_base.py:499\u001b[0m, in \u001b[0;36m_process_plot_var_args._plot_args\u001b[1;34m(self, axes, tup, kwargs, return_kwargs, ambiguous_fmt_datakey)\u001b[0m\n\u001b[0;32m    496\u001b[0m     axes\u001b[38;5;241m.\u001b[39myaxis\u001b[38;5;241m.\u001b[39mupdate_units(y)\n\u001b[0;32m    498\u001b[0m \u001b[38;5;28;01mif\u001b[39;00m x\u001b[38;5;241m.\u001b[39mshape[\u001b[38;5;241m0\u001b[39m] \u001b[38;5;241m!=\u001b[39m y\u001b[38;5;241m.\u001b[39mshape[\u001b[38;5;241m0\u001b[39m]:\n\u001b[1;32m--> 499\u001b[0m     \u001b[38;5;28;01mraise\u001b[39;00m \u001b[38;5;167;01mValueError\u001b[39;00m(\u001b[38;5;124mf\u001b[39m\u001b[38;5;124m\"\u001b[39m\u001b[38;5;124mx and y must have same first dimension, but \u001b[39m\u001b[38;5;124m\"\u001b[39m\n\u001b[0;32m    500\u001b[0m                      \u001b[38;5;124mf\u001b[39m\u001b[38;5;124m\"\u001b[39m\u001b[38;5;124mhave shapes \u001b[39m\u001b[38;5;132;01m{\u001b[39;00mx\u001b[38;5;241m.\u001b[39mshape\u001b[38;5;132;01m}\u001b[39;00m\u001b[38;5;124m and \u001b[39m\u001b[38;5;132;01m{\u001b[39;00my\u001b[38;5;241m.\u001b[39mshape\u001b[38;5;132;01m}\u001b[39;00m\u001b[38;5;124m\"\u001b[39m)\n\u001b[0;32m    501\u001b[0m \u001b[38;5;28;01mif\u001b[39;00m x\u001b[38;5;241m.\u001b[39mndim \u001b[38;5;241m>\u001b[39m \u001b[38;5;241m2\u001b[39m \u001b[38;5;129;01mor\u001b[39;00m y\u001b[38;5;241m.\u001b[39mndim \u001b[38;5;241m>\u001b[39m \u001b[38;5;241m2\u001b[39m:\n\u001b[0;32m    502\u001b[0m     \u001b[38;5;28;01mraise\u001b[39;00m \u001b[38;5;167;01mValueError\u001b[39;00m(\u001b[38;5;124mf\u001b[39m\u001b[38;5;124m\"\u001b[39m\u001b[38;5;124mx and y can be no greater than 2D, but have \u001b[39m\u001b[38;5;124m\"\u001b[39m\n\u001b[0;32m    503\u001b[0m                      \u001b[38;5;124mf\u001b[39m\u001b[38;5;124m\"\u001b[39m\u001b[38;5;124mshapes \u001b[39m\u001b[38;5;132;01m{\u001b[39;00mx\u001b[38;5;241m.\u001b[39mshape\u001b[38;5;132;01m}\u001b[39;00m\u001b[38;5;124m and \u001b[39m\u001b[38;5;132;01m{\u001b[39;00my\u001b[38;5;241m.\u001b[39mshape\u001b[38;5;132;01m}\u001b[39;00m\u001b[38;5;124m\"\u001b[39m)\n",
      "\u001b[1;31mValueError\u001b[0m: x and y must have same first dimension, but have shapes (200,) and (0,)"
     ]
    },
    {
     "data": {
      "image/png": "[encoded data removed]",
      "text/plain": [
       "<Figure size 1000x500 with 1 Axes>"
      ]
     },
     "metadata": {},
     "output_type": "display_data"
    }
   ],
   "source": [
    "# 🔹 Step 7: Evaluate Performance\n",
    "with torch.no_grad():\n",
    "    _, decoded_source_test, _, decoded_target_test, aligned_source_test = model(X_test_torch, Y_test_torch)\n",
    "\n",
    "mse = mean_squared_error(Y_test_torch.numpy(), aligned_source_test.numpy())\n",
    "mae = mean_absolute_error(Y_test_torch.numpy(), aligned_source_test.numpy())\n",
    "r2 = r2_score(Y_test_torch.numpy(), aligned_source_test.numpy())\n",
    "\n",
    "cos_similarities = np.diag(cosine_similarity(aligned_source_test.numpy(), Y_test_torch.numpy()))\n",
    "\n",
    "# Compute Cosine Similarity\n",
    "cos_similarities = np.diag(cosine_similarity(aligned_source_test.numpy(), Y_test_torch.numpy()))\n",
    "\n",
    "# Ensure binary labels have both 0s and 1s\n",
    "threshold = np.percentile(cos_similarities, 75)  # Use median as threshold\n",
    "y_true = (cos_similarities >= threshold).astype(int)  # 1 if above median, 0 otherwise\n",
    "\n",
    "\n",
    "# Check if both classes exist\n",
    "if len(np.unique(y_true)) < 2:\n",
    "    print(\"⚠️ Warning: Only one class in y_true. AUC cannot be computed.\")\n",
    "    auc_score = None\n",
    "else:\n",
    "    auc_score = roc_auc_score(y_true, cos_similarities)\n",
    "\n",
    "import numpy as np\n",
    "\n",
    "# Check label distribution\n",
    "print(\"Label Distribution in y_true:\")\n",
    "print(np.unique(y_true, return_counts=True))  # Show number of 0s and 1s\n",
    "\n",
    "\n",
    "print(f\"AUC Score: {auc_score if auc_score is not None else 'N/A'}\")\n",
    "\n",
    "print(f\"\\n🔹 Evaluation Metrics:\")\n",
    "print(f\"Mean Squared Error (MSE): {mse:.4f}\")\n",
    "print(f\"Mean Absolute Error (MAE): {mae:.4f}\")\n",
    "print(f\"R² Score: {r2:.4f}\")\n",
    "print(f\"Average Cosine Similarity: {np.mean(cos_similarities):.4f}\")\n",
    "print(f\"AUC Score: {auc_score:.4f}\")\n",
    "\n",
    "# 🔹 Step 8: Plot Loss Curves\n",
    "plt.figure(figsize=(10, 5))\n",
    "plt.plot(range(1, epochs + 1), train_losses, label=\"Train Loss\")\n",
    "plt.plot(range(1, epochs + 1), test_losses, label=\"Test Loss\")\n",
    "plt.xlabel(\"Epochs\")\n",
    "plt.ylabel(\"Loss\")\n",
    "plt.title(\"Train & Test Loss Over Epochs\")\n",
    "plt.legend()\n",
    "plt.show()\n",
    "\n",
    "import matplotlib.pyplot as plt\n",
    "\n",
    "plt.hist(cos_similarities, bins=30, edgecolor=\"black\", alpha=0.7)\n",
    "plt.xlabel(\"Cosine Similarity\")\n",
    "plt.ylabel(\"Number of Users\")\n",
    "plt.title(\"Cosine Similarity Distribution\")\n",
    "plt.show()\n",
    "\n"
   ]
  },
  {
   "cell_type": "code",
   "execution_count": 35,
   "id": "93b75624-c69d-4a9b-9e85-acbd74c0332e",
   "metadata": {},
   "outputs": [
    {
     "data": {
      "text/plain": [
       "13391"
      ]
     },
     "execution_count": 35,
     "metadata": {},
     "output_type": "execute_result"
    }
   ],
   "source": [
    "# # Delete large tensors and variables\n",
    "# del mse\n",
    "# del mae\n",
    "# del r2\n",
    "# del cos_similarities\n",
    "# del y_true\n",
    "# del auc_score\n",
    "# del decoded_source_test\n",
    "# del decoded_target_test\n",
    "# del aligned_source_test\n",
    "\n",
    "# # Clear CUDA memory if using GPU\n",
    "# if torch.cuda.is_available():\n",
    "#     torch.cuda.empty_cache()\n",
    "#     torch.cuda.ipc_collect()\n",
    "\n",
    "# # Force garbage collection\n",
    "# import gc\n",
    "# gc.collect()\n"
   ]
  },
  {
   "cell_type": "code",
   "execution_count": null,
   "id": "f9e7ebb5-35c7-4a42-ad79-12f6b2c7c55d",
   "metadata": {},
   "outputs": [],
   "source": [
    "# del ad_data\n",
    "# del ecommerce_data\n",
    "# del common_users\n",
    "# del sampled_users\n",
    "# del source_user_embeddings\n",
    "# del target_user_embeddings\n",
    "# del X_train_torch \n",
    "# del X_test_torch\n",
    "# del Y_train_torch \n",
    "# del Y_test_torch"
   ]
  },
  {
   "cell_type": "code",
   "execution_count": null,
   "id": "1e773ccb-3e2b-466c-9703-b0fadff419d4",
   "metadata": {},
   "outputs": [],
   "source": []
  },
  {
   "cell_type": "code",
   "execution_count": null,
   "id": "d2c6ce27-2a82-4725-ab73-03610bd26ee3",
   "metadata": {},
   "outputs": [],
   "source": []
  }
 ],
 "metadata": {
  "kernelspec": {
   "display_name": "Python 3 (ipykernel)",
   "language": "python",
   "name": "python3"
  },
  "language_info": {
   "codemirror_mode": {
    "name": "ipython",
    "version": 3
   },
   "file_extension": ".py",
   "mimetype": "text/x-python",
   "name": "python",
   "nbconvert_exporter": "python",
   "pygments_lexer": "ipython3",
   "version": "3.12.4"
  }
 },
 "nbformat": 4,
 "nbformat_minor": 5
}
