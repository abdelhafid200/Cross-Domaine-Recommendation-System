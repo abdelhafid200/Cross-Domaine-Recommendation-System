{
 "cells": [
  {
   "cell_type": "code",
   "execution_count": 3,
   "metadata": {
    "_cell_guid": "b1076dfc-b9ad-4769-8c92-a6c4dae69d19",
    "_uuid": "8f2839f25d086af736a60e9eeb907d3b93b6e0e5"
   },
   "outputs": [],
   "source": [
    "# This Python 3 environment comes with many helpful analytics libraries installed\n",
    "# It is defined by the kaggle/python Docker image: https://github.com/kaggle/docker-python\n",
    "# For example, here's several helpful packages to load\n",
    "\n",
    "import numpy as np # linear algebra\n",
    "import pandas as pd # data processing, CSV file I/O (e.g. pd.read_csv)\n",
    "\n",
    "# Input data files are available in the read-only \"../input/\" directory\n",
    "# For example, running this (by clicking run or pressing Shift+Enter) will list all files under the input directory\n",
    "\n",
    "import os\n",
    "for dirname, _, filenames in os.walk('/kaggle/input'):\n",
    "    for filename in filenames:\n",
    "        print(os.path.join(dirname, filename))\n",
    "\n",
    "# You can write up to 20GB to the current directory (/kaggle/working/) that gets preserved as output when you create a version using \"Save & Run All\" \n",
    "# You can also write temporary files to /kaggle/temp/, but they won't be saved outside of the current session"
   ]
  },
  {
   "cell_type": "markdown",
   "metadata": {},
   "source": [
    "# Load and Prepare the Data"
   ]
  },
  {
   "cell_type": "code",
   "execution_count": 4,
   "metadata": {},
   "outputs": [
    {
     "name": "stdout",
     "output_type": "stream",
     "text": [
      "Number of common users: 987994\n",
      "Ad interactions: 22989084\n",
      "E-commerce interactions: 100150806\n"
     ]
    }
   ],
   "source": [
    "import pandas as pd\n",
    "import numpy as np\n",
    "\n",
    "# Load datasets\n",
    "ad_data = pd.read_csv(\"raw_sample.csv\", usecols=[\"user\", \"adgroup_id\", \"nonclk\"]) \n",
    "\n",
    "ecommerce_data = pd.read_csv(\"UserBehavior.csv\")\n",
    "\n",
    "ecommerce_data.columns = ['user_id', 'item_id', 'category_id', 'behavior_type', 'timestamp']\n",
    "\n",
    "# Rename columns for consistency\n",
    "ad_data.rename(columns={\"user\": \"user_id\", \"adgroup_id\": \"item_id\", \"nonclk\": \"interaction\"}, inplace=True)\n",
    "ecommerce_data[\"interaction\"] = ecommerce_data[\"behavior_type\"].apply(lambda x: 1 if x == \"buy\" else 0)  # Convert behavior to binary\n",
    "\n",
    "# Keep only relevant columns\n",
    "ad_data = ad_data[[\"user_id\", \"item_id\", \"interaction\"]]\n",
    "ecommerce_data = ecommerce_data[[\"user_id\", \"item_id\", \"interaction\"]]\n",
    "\n",
    "# Filter users that are present in both domains\n",
    "common_users = set(ad_data[\"user_id\"]).intersection(set(ecommerce_data[\"user_id\"]))\n",
    "\n",
    "\n",
    "\n",
    "ad_data = ad_data[ad_data[\"user_id\"].isin(common_users)]\n",
    "ecommerce_data = ecommerce_data[ecommerce_data[\"user_id\"].isin(common_users)]\n",
    "\n",
    "# Print dataset sizes\n",
    "print(f\"Number of common users: {len(common_users)}\")\n",
    "print(f\"Ad interactions: {len(ad_data)}\")\n",
    "print(f\"E-commerce interactions: {len(ecommerce_data)}\")\n"
   ]
  },
  {
   "cell_type": "code",
   "execution_count": 5,
   "metadata": {},
   "outputs": [
    {
     "name": "stdout",
     "output_type": "stream",
     "text": [
      "Sampled users: 296398\n",
      "Ad interactions after sampling: 6879657\n",
      "E-commerce interactions after sampling: 30066651\n"
     ]
    }
   ],
   "source": [
    "# Keep only relevant columns\n",
    "ad_data = ad_data[[\"user_id\", \"item_id\", \"interaction\"]]\n",
    "ecommerce_data = ecommerce_data[[\"user_id\", \"item_id\", \"interaction\"]]\n",
    "\n",
    "# Identify common users\n",
    "common_users = list(set(ad_data[\"user_id\"]).intersection(set(ecommerce_data[\"user_id\"])))\n",
    "\n",
    "# Sample 20% of common users\n",
    "sample_size = int(0.3 * len(common_users))\n",
    "sampled_users = np.random.choice(common_users, sample_size, replace=False)\n",
    "\n",
    "# Filter data to only include sampled users\n",
    "ad_data = ad_data[ad_data[\"user_id\"].isin(sampled_users)]\n",
    "ecommerce_data = ecommerce_data[ecommerce_data[\"user_id\"].isin(sampled_users)]\n",
    "\n",
    "# Print dataset sizes\n",
    "print(f\"Sampled users: {len(sampled_users)}\")\n",
    "print(f\"Ad interactions after sampling: {len(ad_data)}\")\n",
    "print(f\"E-commerce interactions after sampling: {len(ecommerce_data)}\")\n"
   ]
  },
  {
   "cell_type": "markdown",
   "metadata": {},
   "source": [
    "# Train User Embeddings in Each Domain"
   ]
  },
  {
   "cell_type": "code",
   "execution_count": 6,
   "metadata": {},
   "outputs": [
    {
     "name": "stdout",
     "output_type": "stream",
     "text": [
      "Number of users with embeddings: 296398\n"
     ]
    }
   ],
   "source": [
    "from scipy.sparse import csr_matrix\n",
    "from sklearn.decomposition import TruncatedSVD\n",
    "\n",
    "def train_user_embeddings(data, embedding_dim=32):\n",
    "    data = data.groupby([\"user_id\", \"item_id\"]).agg({\"interaction\": \"sum\"}).reset_index()\n",
    "    user_mapping = {user: idx for idx, user in enumerate(data[\"user_id\"].unique())}\n",
    "    item_mapping = {item: idx for idx, item in enumerate(data[\"item_id\"].unique())}\n",
    "    data[\"user_idx\"] = data[\"user_id\"].map(user_mapping)\n",
    "    data[\"item_idx\"] = data[\"item_id\"].map(item_mapping)\n",
    "\n",
    "    interaction_matrix = csr_matrix(\n",
    "        (data[\"interaction\"], (data[\"user_idx\"], data[\"item_idx\"])),\n",
    "        shape=(len(user_mapping), len(item_mapping))\n",
    "    )\n",
    "\n",
    "    svd = TruncatedSVD(n_components=embedding_dim, random_state=42)\n",
    "    user_embeddings = svd.fit_transform(interaction_matrix)\n",
    "\n",
    "    return {user: embedding for user, embedding in zip(user_mapping.keys(), user_embeddings)}\n",
    "\n",
    "\n",
    "# Train embeddings\n",
    "source_user_embeddings = train_user_embeddings(ad_data)\n",
    "target_user_embeddings = train_user_embeddings(ecommerce_data)\n",
    "\n",
    "print(f\"Number of users with embeddings: {len(source_user_embeddings)}\")\n"
   ]
  },
  {
   "cell_type": "code",
   "execution_count": null,
   "metadata": {},
   "outputs": [],
   "source": []
  },
  {
   "cell_type": "markdown",
   "metadata": {},
   "source": [
    "# Train an MLP to Map User Embeddings from Source → Target"
   ]
  },
  {
   "cell_type": "code",
   "execution_count": 7,
   "metadata": {},
   "outputs": [],
   "source": [
    "# 🔹 Step 4: Prepare Data for MLP Training\n",
    "X_train, Y_train = [], []\n",
    "for user in sampled_users:\n",
    "    if user in source_user_embeddings and user in target_user_embeddings:\n",
    "        X_train.append(source_user_embeddings[user])\n",
    "        Y_train.append(target_user_embeddings[user])\n",
    "\n",
    "X_train, Y_train = np.array(X_train), np.array(Y_train)"
   ]
  },
  {
   "cell_type": "code",
   "execution_count": 8,
   "metadata": {},
   "outputs": [],
   "source": [
    "import pandas as pd\n",
    "import numpy as np\n",
    "import torch\n",
    "import torch.nn as nn\n",
    "import torch.optim as optim\n",
    "import matplotlib.pyplot as plt\n",
    "from sklearn.preprocessing import StandardScaler\n",
    "from sklearn.metrics import mean_squared_error, mean_absolute_error, r2_score, roc_auc_score\n",
    "from sklearn.metrics.pairwise import cosine_similarity"
   ]
  },
  {
   "cell_type": "code",
   "execution_count": 9,
   "metadata": {},
   "outputs": [],
   "source": [
    "# Normalize embeddings\n",
    "from sklearn.preprocessing import StandardScaler\n",
    "scaler = StandardScaler()\n",
    "X_train = scaler.fit_transform(X_train)\n",
    "Y_train = scaler.fit_transform(Y_train)\n",
    "\n",
    "# Convert to tensors\n",
    "X_train_torch = torch.tensor(X_train, dtype=torch.float32)\n",
    "Y_train_torch = torch.tensor(Y_train, dtype=torch.float32)\n",
    "\n",
    "# Split train/test (80/20)\n",
    "train_size = int(0.8 * len(X_train_torch))\n",
    "X_train_torch, X_test_torch = X_train_torch[:train_size], X_train_torch[train_size:]\n",
    "Y_train_torch, Y_test_torch = Y_train_torch[:train_size], Y_train_torch[train_size:]"
   ]
  },
  {
   "cell_type": "code",
   "execution_count": 18,
   "metadata": {},
   "outputs": [],
   "source": [
    "# 🔹 Step 5: Define Optimized MLP Model\n",
    "class EmbeddingMapper(nn.Module):\n",
    "    def __init__(self, input_dim=32, hidden_dim=128, output_dim=32):\n",
    "        super(EmbeddingMapper, self).__init__()\n",
    "        self.fc1 = nn.Linear(input_dim, hidden_dim)\n",
    "        self.bn1 = nn.BatchNorm1d(hidden_dim)\n",
    "        self.dropout = nn.Dropout(0.2)  # Ajout du dropout\n",
    "        self.fc2 = nn.Linear(hidden_dim, hidden_dim)\n",
    "        self.bn2 = nn.BatchNorm1d(hidden_dim)\n",
    "        self.fc3 = nn.Linear(hidden_dim, output_dim)\n",
    "\n",
    "    def forward(self, x):\n",
    "        x = torch.relu(self.bn1(self.fc1(x)))\n",
    "        x = self.dropout(x)  # Appliquer Dropout après la première couche\n",
    "        x = torch.relu(self.bn2(self.fc2(x)))\n",
    "        x = self.dropout(x)  # Appliquer Dropout après la deuxième couche\n",
    "        x = self.fc3(x)\n",
    "        return x\n",
    "\n",
    "\n",
    "model = EmbeddingMapper()"
   ]
  },
  {
   "cell_type": "code",
   "execution_count": 19,
   "metadata": {},
   "outputs": [],
   "source": [
    "# 🔹 Step 6: Train Model with Cosine Similarity Loss\n",
    "def cosine_similarity_loss(y_pred, y_true):\n",
    "    return 1 - torch.nn.functional.cosine_similarity(y_pred, y_true).mean()\n",
    "\n",
    "optimizer = optim.Adam(model.parameters(), lr=0.0005, weight_decay=1e-4)"
   ]
  },
  {
   "cell_type": "code",
   "execution_count": 20,
   "metadata": {},
   "outputs": [
    {
     "name": "stdout",
     "output_type": "stream",
     "text": [
      "Epoch 1, Train Loss: 1.0547, Test Loss: 0.9680\n",
      "Epoch 2, Train Loss: 0.9763, Test Loss: 0.8977\n",
      "Epoch 3, Train Loss: 0.8978, Test Loss: 0.8198\n",
      "Epoch 4, Train Loss: 0.8292, Test Loss: 0.7681\n",
      "Epoch 5, Train Loss: 0.7683, Test Loss: 0.7064\n",
      "Epoch 6, Train Loss: 0.7153, Test Loss: 0.6650\n",
      "Epoch 7, Train Loss: 0.6643, Test Loss: 0.6232\n",
      "Epoch 8, Train Loss: 0.6196, Test Loss: 0.5857\n",
      "Epoch 9, Train Loss: 0.5843, Test Loss: 0.5518\n",
      "Epoch 10, Train Loss: 0.5513, Test Loss: 0.5294\n",
      "Epoch 11, Train Loss: 0.5241, Test Loss: 0.5051\n",
      "Epoch 12, Train Loss: 0.4992, Test Loss: 0.4806\n",
      "Epoch 13, Train Loss: 0.4766, Test Loss: 0.4603\n",
      "Epoch 14, Train Loss: 0.4557, Test Loss: 0.4430\n",
      "Epoch 15, Train Loss: 0.4387, Test Loss: 0.4293\n",
      "Epoch 16, Train Loss: 0.4233, Test Loss: 0.4117\n",
      "Epoch 17, Train Loss: 0.4080, Test Loss: 0.3989\n",
      "Epoch 18, Train Loss: 0.3959, Test Loss: 0.3855\n",
      "Epoch 19, Train Loss: 0.3855, Test Loss: 0.3786\n",
      "Epoch 20, Train Loss: 0.3730, Test Loss: 0.3686\n",
      "Epoch 21, Train Loss: 0.3633, Test Loss: 0.3578\n",
      "Epoch 22, Train Loss: 0.3532, Test Loss: 0.3500\n",
      "Epoch 23, Train Loss: 0.3449, Test Loss: 0.3414\n",
      "Epoch 24, Train Loss: 0.3371, Test Loss: 0.3335\n",
      "Epoch 25, Train Loss: 0.3297, Test Loss: 0.3269\n",
      "Epoch 26, Train Loss: 0.3239, Test Loss: 0.3216\n",
      "Epoch 27, Train Loss: 0.3173, Test Loss: 0.3146\n",
      "Epoch 28, Train Loss: 0.3123, Test Loss: 0.3095\n",
      "Epoch 29, Train Loss: 0.3069, Test Loss: 0.3032\n",
      "Epoch 30, Train Loss: 0.3014, Test Loss: 0.2991\n"
     ]
    }
   ],
   "source": [
    "import torch\n",
    "\n",
    "# Early Stopping Parameters\n",
    "patience = 10  # Nombre d'epochs à attendre après une amélioration\n",
    "min_delta = 1e-4  # Amélioration minimale considérée comme significative\n",
    "best_loss = float('inf')\n",
    "stopping_counter = 0\n",
    "\n",
    "X_train_torch += torch.normal(mean=0, std=0.01, size=X_train_torch.shape)\n",
    "\n",
    "# Train\n",
    "epochs = 30\n",
    "train_losses, test_losses = [], []\n",
    "scheduler = torch.optim.lr_scheduler.ReduceLROnPlateau(optimizer, mode='min', factor=0.5, patience=5)\n",
    "\n",
    "for epoch in range(epochs):\n",
    "    optimizer.zero_grad()\n",
    "    output = model(X_train_torch)\n",
    "    loss = cosine_similarity_loss(output, Y_train_torch)\n",
    "    loss.backward()\n",
    "\n",
    "    # Gradient Clipping pour éviter les mises à jour extrêmes\n",
    "    torch.nn.utils.clip_grad_norm_(model.parameters(), max_norm=1.0)\n",
    "    \n",
    "    optimizer.step()\n",
    "    train_losses.append(loss.item())\n",
    "\n",
    "    with torch.no_grad():\n",
    "        test_output = model(X_test_torch)\n",
    "        test_loss = cosine_similarity_loss(test_output, Y_test_torch)\n",
    "        test_losses.append(test_loss.item())\n",
    "\n",
    "    print(f\"Epoch {epoch+1}, Train Loss: {loss.item():.4f}, Test Loss: {test_loss.item():.4f}\")\n",
    "\n",
    "    # Early Stopping Logic\n",
    "    if test_loss < best_loss - min_delta:\n",
    "        best_loss = test_loss\n",
    "        stopping_counter = 0  # Réinitialiser le compteur d'arrêt\n",
    "        torch.save(model.state_dict(), \"embedding_mapper.pth\")  # Sauvegarde du meilleur modèle\n",
    "    else:\n",
    "        stopping_counter += 1\n",
    "\n",
    "    if stopping_counter >= patience:\n",
    "        print(f\"Early stopping triggered at epoch {epoch+1}\")\n",
    "        break\n",
    "\n",
    "    # Mise à jour du scheduler\n",
    "    scheduler.step(test_loss)\n"
   ]
  },
  {
   "cell_type": "code",
   "execution_count": 21,
   "metadata": {},
   "outputs": [
    {
     "name": "stdout",
     "output_type": "stream",
     "text": [
      "\n",
      "🔹 Evaluation Metrics:\n",
      "Mean Squared Error (MSE): 1.3575\n",
      "Mean Absolute Error (MAE): 0.2593\n",
      "R² Score: -9.0499\n",
      "Average Cosine Similarity: 0.7014\n",
      "AUC Score: 1.0000\n"
     ]
    }
   ],
   "source": [
    "# 🔹 Step 7: Evaluate Performance\n",
    "with torch.no_grad():\n",
    "    predicted_embeddings = model(X_test_torch).numpy()\n",
    "    actual_embeddings = Y_test_torch.numpy()\n",
    "\n",
    "mse = mean_squared_error(actual_embeddings, predicted_embeddings)\n",
    "mae = mean_absolute_error(actual_embeddings, predicted_embeddings)\n",
    "r2 = r2_score(actual_embeddings, predicted_embeddings)\n",
    "\n",
    "cos_similarities = np.diag(cosine_similarity(predicted_embeddings, actual_embeddings))\n",
    "auc_score = roc_auc_score((cos_similarities >= 0.8).astype(int), cos_similarities)\n",
    "\n",
    "print(f\"\\n🔹 Evaluation Metrics:\")\n",
    "print(f\"Mean Squared Error (MSE): {mse:.4f}\")\n",
    "print(f\"Mean Absolute Error (MAE): {mae:.4f}\")\n",
    "print(f\"R² Score: {r2:.4f}\")\n",
    "print(f\"Average Cosine Similarity: {np.mean(cos_similarities):.4f}\")\n",
    "print(f\"AUC Score: {auc_score:.4f}\")"
   ]
  },
  {
   "cell_type": "code",
   "execution_count": 22,
   "metadata": {},
   "outputs": [
    {
     "data": {
      "image/png": "[encoded data removed]",
      "text/plain": [
       "<Figure size 1000x500 with 1 Axes>"
      ]
     },
     "metadata": {},
     "output_type": "display_data"
    },
    {
     "data": {
      "image/png": "[encoded data removed]",
      "text/plain": [
       "<Figure size 640x480 with 1 Axes>"
      ]
     },
     "metadata": {},
     "output_type": "display_data"
    }
   ],
   "source": [
    "# 🔹 Step 8: Plot Loss Curves\n",
    "plt.figure(figsize=(10, 5))\n",
    "plt.plot(range(1, epochs + 1), train_losses, label=\"Train Loss\", marker='o')\n",
    "plt.plot(range(1, epochs + 1), test_losses, label=\"Test Loss\", marker='s')\n",
    "plt.xlabel(\"Epochs\")\n",
    "plt.ylabel(\"Loss (Cosine Similarity)\")\n",
    "plt.title(\"Train & Test Loss Over Epochs\")\n",
    "plt.legend()\n",
    "plt.show()\n",
    "\n",
    "plt.hist(cos_similarities, bins=30, edgecolor=\"black\", alpha=0.7)\n",
    "plt.xlabel(\"Cosine Similarity\")\n",
    "plt.ylabel(\"Count of Users\")\n",
    "plt.title(\"Distribution of Cosine Similarity Scores\")\n",
    "plt.show()"
   ]
  },
  {
   "cell_type": "code",
   "execution_count": null,
   "metadata": {},
   "outputs": [],
   "source": []
  },
  {
   "cell_type": "code",
   "execution_count": null,
   "metadata": {},
   "outputs": [],
   "source": []
  },
  {
   "cell_type": "code",
   "execution_count": null,
   "metadata": {},
   "outputs": [],
   "source": []
  },
  {
   "cell_type": "code",
   "execution_count": null,
   "metadata": {},
   "outputs": [],
   "source": []
  },
  {
   "cell_type": "markdown",
   "metadata": {},
   "source": [
    "# Use Mapped User Embeddings for E-commerce Recommendations"
   ]
  }
 ],
 "metadata": {
  "kaggle": {
   "accelerator": "nvidiaTeslaT4",
   "dataSources": [
    {
     "datasetId": 6287114,
     "sourceId": 10178601,
     "sourceType": "datasetVersion"
    }
   ],
   "dockerImageVersionId": 30919,
   "isGpuEnabled": true,
   "isInternetEnabled": true,
   "language": "python",
   "sourceType": "notebook"
  },
  "kernelspec": {
   "display_name": "Python 3 (ipykernel)",
   "language": "python",
   "name": "python3"
  },
  "language_info": {
   "codemirror_mode": {
    "name": "ipython",
    "version": 3
   },
   "file_extension": ".py",
   "mimetype": "text/x-python",
   "name": "python",
   "nbconvert_exporter": "python",
   "pygments_lexer": "ipython3",
   "version": "3.12.4"
  }
 },
 "nbformat": 4,
 "nbformat_minor": 4
}
